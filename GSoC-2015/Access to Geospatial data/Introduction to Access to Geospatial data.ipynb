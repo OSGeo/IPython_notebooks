{
 "cells": [
  {
   "cell_type": "markdown",
   "metadata": {},
   "source": [
    "<h1><center>[Notebooks](../) - [Access to Geospatial data](../Access to Geospatial data) - [Introduction ](../Access to Geospatial data/Introduction to Access to Geospatial data.ipynb)</center></h1>"
   ]
  },
  {
   "cell_type": "markdown",
   "metadata": {},
   "source": [
    "# Access to Geospatial data\n",
    "\n",
    "In this set of notebook two of the most important open source software libraries are introduced:\n",
    "\n",
    "* [GDAL](http://localhost/osgeolive/en/overview/gdal_overview.html) (Geospatial Data Abstraction Library) \n",
    "* [OSSIM](http://localhost/osgeolive/en/overview/ossim_overview.html) (Open Source Software Image Mapping). \n",
    "\n",
    "Both libraries are the state of the art in software for reading and translating geospatial data between several formats, and the contain tools to reproject, mosaic and subset geospatial dataset.\n",
    "\n",
    "The two libraries have a lot in common but differ in some particular features. **GDAL** presents a complete set of software utilities to work with both raster and vector data. It includes support for sql-like query processing, a very wide range of driver to access both raster and vector for all the most common data formats  and a complete set of API accessible trough scripting languages such Python. **OSSIM** is more oriented to photogrammetry with its hi-performance hi-precision raster processing engine. It offers parallel processing support, an unique orthorectification system which enables the processing of satellite-sensor specific data products. \n",
    "\n",
    "In the notebooks below we'll explore the tools offered by the *command line utilities* for both software plus the Python scripting capabilities pf GDAL.\n",
    "\n",
    "* [GDAL-OGR Quickstart - bash](GDAL-OGR Quickstart.ipynb)\n",
    "\n",
    "* [OSSIM Quickstart](OSSIM Quickstart.ipynb)\n",
    "\n",
    "* [GDAL-OGR with Python](GDAL-OGR with Python.ipynb)\n"
   ]
  }
 ],
 "metadata": {
  "kernelspec": {
   "display_name": "Python 2",
   "language": "python",
   "name": "python2"
  },
  "language_info": {
   "codemirror_mode": {
    "name": "ipython",
    "version": 2.0
   },
   "file_extension": ".py",
   "mimetype": "text/x-python",
   "name": "python",
   "nbconvert_exporter": "python",
   "pygments_lexer": "ipython2",
   "version": "2.7.6"
  }
 },
 "nbformat": 4,
 "nbformat_minor": 0
}