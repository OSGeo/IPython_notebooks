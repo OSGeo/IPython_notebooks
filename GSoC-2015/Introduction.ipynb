{
 "cells": [
  {
   "cell_type": "markdown",
   "metadata": {},
   "source": [
    "# Introduction\n",
    "\n",
    "This GSoC 2015 Idea will focus on the development of a set of digital notebooks to explore several open source solution for geospatial data analysis, with the aim of bridging together the several software libraries already installed on the live to perform complex *geo-data-science workflows*. \n",
    "\n",
    "The notebooks are developed in the [Jupyter notebook server](https://jupyter.org/) environments which is heavly based on the [IPython](http://ipython.org/) project, are written id different languages (bash, python, R) and are organized in a series of \"topic-oriented\" geospatial notebooks.\n",
    "\n",
    "For a complete description of each projects installed on the OSGeo-Live refer to the [OSGeo-Live documentation](http://localhost/osgeolive/en/index.html). This work will focus on the usage of several scientific python libraries like [numpy](http://www.numpy.org/), [scipy](http://www.scipy.org/), [pandas](http://pandas.pydata.org/), [matplotlib](http://matplotlib.org/) on GFOSS (Geographic Free and Open Source Software) projects like [GRASS](https://grass.osgeo.org/), [GDAL](http://www.gdal.org/), [OSSIM](https://trac.osgeo.org/ossim/), [maoserver](http://mapserver.org/) and more specialized software like [R](https://www.r-project.org/) for geostatistic workflow and [postgis](http://postgis.net/) as geospatial relational database.\n",
    "\n",
    "\n",
    "The geospatial notebook here developed will make use of the sample dataset pre-installed on the OSGeo-Live:\n",
    "\n",
    "* [Natural Earth](http://localhost/osgeolive/en/overview/naturalearth_overview.html)\n",
    "\n",
    "* [OSGeo North Carolina, USA Educational dataset](http://localhost/osgeolive/en/overview/nc_dataset_overview.html)\n",
    "\n",
    "* [OpenStreetMap](http://localhost/osgeolive/en/overview/osm_dataset_overview.html)\n",
    "\n",
    "* [NetCDF Data Set](http://localhost/osgeolive/en/overview/netcdf_dataset_overview.html)\n",
    "\n",
    "The geospatial notebok here developed are composed of 6 different sections with the aim of discover some of the several geospatial libraries installed on the OSGeo-Live. The geospatial notebooks developed here will walk the user from simple usage of command line tools such GDAL, PROJ and OSSIM to basic sql query on how to access database information to more complex geoprocessing including raw data parsing, numerical processing and the use of complete GIS platfom like GRASS GIS.\n",
    "\n",
    "\n",
    "# Topic Layout\n",
    "\n",
    "**[Access to Geospatial data](Access to Geospatial data/Introduction to Access to Geospatial data.ipynb)**\n",
    "\n",
    "   * [GDAL-OGR Quickstart - bash](Access to Geospatial data/GDAL-OGR Quickstart.ipynb)\n",
    "\n",
    "   * [GDAL-OGR with Python](Access to Geospatial data/GDAL-OGR with Python.ipynb)\n",
    "\n",
    "   * [OSSIM Quickstart](Access to Geospatial data/OSSIM Quickstart.ipynb)\n",
    "\n",
    "**[Numerical Cartography](Numerical Cartography/An intro to Numerical Cartography.ipynb)**\n",
    "\n",
    "   * [An intro to numerical cartography](Numerical Cartography/An intro to Numerical Cartography.ipynb)\n",
    "\n",
    "   * [Map Projections](Numerical Cartography/Map Projections.ipynb)\n",
    "\n",
    "   * [Spatial and Coordinate Reference System](Numerical Cartography/Spatial and Coordinate Reference System.ipynb)\n",
    "\n",
    "   * [The Geodesic Problem](Numerical Cartography/The Geodesic Problem.ipynb)\n",
    "\n",
    "   * [Working with coordinates](Numerical Cartography/Working with coordinates.ipynb)\n",
    "\n",
    "   * [geometric-transformations](Numerical Cartography/geometric-transformation.ipynb)\n",
    "\n",
    "\n",
    "**[Geoprocessing with Vectors](Geoprocessing with Vectors/Introduction to Geoprocessing with Vector.ipynb)**\n",
    "\n",
    "   \n",
    "   * [Intro to Postgis](Geoprocessing with Vectors/Intro to Postgis.ipynb)\n",
    "   \n",
    "**[Introduction to GRASS GIS](Introduction to GRASS GIS/Introduction to GRASS GIS.ipynb)**\n",
    "\n",
    "   * [GRASS working environment](Introduction to GRASS GIS/GRASS working environment.ipynb)\n",
    "   \n",
    "   * [Map display](Introduction to GRASS GIS/Map display.ipynb)\n",
    "\n",
    "**[Simple web-gis products](Simple web-gis products/Introduction to Simple web-gis products.ipynb)**\n",
    "\n",
    "   * [CESIUM]()\n",
    "\n",
    "\n"
   ]
  },
  {
   "cell_type": "code",
   "execution_count": null,
   "metadata": {
    "collapsed": true
   },
   "outputs": [],
   "source": []
  }
 ],
 "metadata": {
  "kernelspec": {
   "display_name": "Python 2",
   "language": "python",
   "name": "python2"
  },
  "language_info": {
   "codemirror_mode": {
    "name": "ipython",
    "version": 2
   },
   "file_extension": ".py",
   "mimetype": "text/x-python",
   "name": "python",
   "nbconvert_exporter": "python",
   "pygments_lexer": "ipython2",
   "version": "2.7.6"
  }
 },
 "nbformat": 4,
 "nbformat_minor": 0
}
