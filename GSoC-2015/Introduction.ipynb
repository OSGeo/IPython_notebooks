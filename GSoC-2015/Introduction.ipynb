{
 "cells": [
  {
   "cell_type": "markdown",
   "metadata": {},
   "source": [
    "# Introduction\n",
    "\n",
    "This set of digital notebooks was created to explore several open source solutions for geospatial data analysis, with the aim of bridging together the several software libraries already installed on OSGeo live to perform complex *geo-data-science workflows*. It was originally started as a Google Summer of Code (GSoC) project in 2015.\n",
    "\n",
    "The notebooks are developed in the [Jupyter notebook server](https://jupyter.org/) environment, which is heavily based on the [IPython](http://ipython.org/) project. They are written in different languages (bash, Python, R) and are organized in a series of \"topic-oriented\" geospatial notebooks.\n",
    "\n",
    "For a complete description of each project installed on OSGeo-Live refer to the [OSGeo-Live documentation](http://localhost/osgeolive/en/index.html). This work will focus on different aspects:\n",
    " * The usage of several scientific Python libraries like [numpy](http://www.numpy.org/), [scipy](http://www.scipy.org/), [pandas](http://pandas.pydata.org/), [matplotlib](http://matplotlib.org/)\n",
    " * The usage of GFOSS (Geographic Free and Open Source Software) projects like [GRASS](https://grass.osgeo.org/), [GDAL](http://www.gdal.org/), [OSSIM](https://trac.osgeo.org/ossim/), [mapserver](http://mapserver.org/) \n",
    " * And finally introducing more specialized software like [R](https://www.r-project.org/) for geostatistic analyses and [postgis](http://postgis.net/) as geospatial relational database.\n",
    "\n",
    "\n",
    "The geospatial notebook here developed will make use of the sample dataset pre-installed on OSGeo-Live:\n",
    "\n",
    "* [Natural Earth](http://localhost/osgeolive/en/overview/naturalearth_overview.html)\n",
    "\n",
    "* [OSGeo North Carolina, USA Educational dataset](http://localhost/osgeolive/en/overview/nc_dataset_overview.html)\n",
    "\n",
    "* [OpenStreetMap](http://localhost/osgeolive/en/overview/osm_dataset_overview.html)\n",
    "\n",
    "* [NetCDF Data Set](http://localhost/osgeolive/en/overview/netcdf_dataset_overview.html)\n",
    "\n",
    "The geospatial notebook here are composed of 6 different sections with the aim of introducing some of the several geospatial libraries installed on OSGeo-Live. The geospatial notebooks will walk the user from simple usage of command line tools such GDAL, PROJ and OSSIM to basic SQL query on how to access database information to more complex geoprocessing including raw data parsing, numerical processing and the use of complete GIS platfom like GRASS GIS.\n",
    "\n",
    "\n",
    "# Topic Layout\n",
    "\n",
    "**[Access to Geospatial data](Access to Geospatial data/Introduction to Access to Geospatial data.ipynb)**\n",
    "\n",
    "   * [GDAL-OGR Quickstart - bash](Access to Geospatial data/GDAL-OGR Quickstart.ipynb)\n",
    "\n",
    "   * [GDAL-OGR with Python](Access to Geospatial data/GDAL-OGR with Python.ipynb)\n",
    "\n",
    "   * [OSSIM Quickstart](Access to Geospatial data/OSSIM Quickstart.ipynb)\n",
    "\n",
    "**[An Introduction to Numerical Cartography](Numerical Cartography/An intro to Numerical Cartography.ipynb)**\n",
    "\n",
    "   * [Map Projections](Numerical Cartography/Map Projections.ipynb)\n",
    "\n",
    "   * [Spatial and Coordinate Reference System](Numerical Cartography/Spatial and Coordinate Reference System.ipynb)\n",
    "\n",
    "   * [The Geodesic Problem](Numerical Cartography/The Geodesic Problem.ipynb)\n",
    "\n",
    "   * [Working with coordinates](Numerical Cartography/Working with coordinates.ipynb)\n",
    "\n",
    "   * [geometric-transformations](Numerical Cartography/geometric-transformation.ipynb)\n",
    "\n",
    "\n",
    "**[Geoprocessing with Vectors](Geoprocessing with Vectors/Introduction to Geoprocessing with Vector.ipynb)**\n",
    "\n",
    "   \n",
    "   * [Intro to Postgis](Geoprocessing with Vectors/Intro to Postgis.ipynb)\n",
    "   \n",
    "**[Introduction to GRASS GIS](Introduction to GRASS GIS/Introduction to GRASS GIS.ipynb)**\n",
    "\n",
    "   * [GRASS working environment](Introduction to GRASS GIS/GRASS working environment.ipynb)\n",
    "   \n",
    "   * [Map display](Introduction to GRASS GIS/Map display.ipynb)\n",
    "\n",
    "**[Simple web-gis products](Simple web-gis products/Introduction to Simple web-gis products.ipynb)**\n",
    "\n",
    "   * [CESIUM](Simple web-gis products/CESIUM/cesium-introduction.ipynb)\n",
    "\n",
    "\n"
   ]
  },
  {
   "cell_type": "code",
   "execution_count": null,
   "metadata": {},
   "outputs": [],
   "source": [
    ""
   ]
  }
 ],
 "metadata": {
  "kernelspec": {
   "display_name": "Python 2",
   "language": "python",
   "name": "python2"
  },
  "language_info": {
   "codemirror_mode": {
    "name": "ipython",
    "version": 2.0
   },
   "file_extension": ".py",
   "mimetype": "text/x-python",
   "name": "python",
   "nbconvert_exporter": "python",
   "pygments_lexer": "ipython2",
   "version": "2.7.6"
  }
 },
 "nbformat": 4,
 "nbformat_minor": 0
}
