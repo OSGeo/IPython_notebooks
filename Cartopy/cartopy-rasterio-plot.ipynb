{
 "cells": [
  {
   "cell_type": "code",
   "execution_count": 1,
   "metadata": {},
   "outputs": [],
   "source": [
    "import numpy as np\n",
    "import matplotlib.pyplot as plt\n",
    "%matplotlib inline\n",
    "\n",
    "from osgeo import gdal\n",
    "from osgeo import gdal_array\n",
    "\n",
    "import rasterio\n",
    "import cartopy.crs as ccrs\n",
    "\n",
    "## DEM plot via cartopy, rasterio, pyplot imshow\n",
    "##  Live 8.5  *  darkblue-b\n",
    "##"
   ]
  },
  {
   "cell_type": "code",
   "execution_count": 2,
   "metadata": {},
   "outputs": [],
   "source": [
    "!mkdir sample_data"
   ]
  },
  {
   "cell_type": "markdown",
   "metadata": {},
   "source": [
    "=="
   ]
  },
  {
   "cell_type": "code",
   "execution_count": 4,
   "metadata": {},
   "outputs": [],
   "source": [
    "## Rasterio\n",
    "##   Clean and fast\n",
    "##     geospatial raster I/O for Python programmers who use Numpy\n",
    "\n",
    "with rasterio.open('sample_data/SanMateo_CA.tif') as src:\n",
    "    data = src.read()\n",
    "    data = np.transpose( data, [1,2,0])\n",
    "\n",
    "\n",
    "## show selected data attributes\n",
    "## -------------------------------------\n",
    "# type(data)  numpy.ma.core.MaskedArray\n",
    "# data.ndim   3\n",
    "# data.shape  (1080, 864, 1)\n",
    "# data.dtype  dtype('float32')\n",
    "\n",
    "## NOTE: when using rasterio and matplotlib only,\n",
    "##  the column order for the trivial case of lat/lon/measure\n",
    "##  is NOT handled automatically..  \n",
    "##  column reordering is REQUIRED   np.transpose()\n"
   ]
  },
  {
   "cell_type": "code",
   "execution_count": 5,
   "metadata": {},
   "outputs": [
    {
     "data": {
      "text/plain": [
       "{'driver': 'GTiff',\n",
       " 'dtype': 'float32',\n",
       " 'nodata': -3.4028234663852886e+38,\n",
       " 'width': 864,\n",
       " 'height': 1080,\n",
       " 'count': 1,\n",
       " 'crs': CRS.from_epsg(4269),\n",
       " 'transform': Affine(0.0002777777777780012, 0.0, -122.44000000003291,\n",
       "        0.0, -0.0002777777777779992, 37.69999999999724)}"
      ]
     },
     "execution_count": 5,
     "metadata": {},
     "output_type": "execute_result"
    }
   ],
   "source": [
    "## Rasterio supplies a simple dictionary of important GeoTIFF metadata\n",
    "src.meta"
   ]
  },
  {
   "cell_type": "code",
   "execution_count": 6,
   "metadata": {},
   "outputs": [
    {
     "data": {
      "text/plain": [
       "array([[203.4132 , 203.94624],\n",
       "       [198.2123 , 197.35855]], dtype=float32)"
      ]
     },
     "execution_count": 6,
     "metadata": {},
     "output_type": "execute_result"
    }
   ],
   "source": [
    "## numpy ndarray indexing example\n",
    "##  show the measure values for a 2x2 area\n",
    "##  no-data options are available using a masked array\n",
    "##    http://docs.scipy.org/doc/numpy/reference/maskedarray.generic.html#what-is-a-masked-array\n",
    "\n",
    "data[0:2,0:2,0]"
   ]
  },
  {
   "cell_type": "code",
   "execution_count": null,
   "metadata": {},
   "outputs": [],
   "source": [
    "## pyplot Image-Show \n",
    "##  http://matplotlib.org/api/pyplot_api.html#matplotlib.pyplot.imshow\n",
    "##\n",
    "##  Example of using matplotlib to directly display a GeoTIFF\n",
    "##\n",
    "##  Cartopy supplies a library of mapping transformations\n",
    "##   use an idiom to calculate the correct display bounds\n",
    "##\n",
    "##  data[:,:,0] refers to a numpy ndarray: all-x, all-y, 0th measure\n",
    "##\n",
    "\n",
    "xmin = src.transform[0]\n",
    "xmax = src.transform[0] + src.transform[1]*src.width\n",
    "ymin = src.transform[3] + src.transform[5]*src.height\n",
    "ymax = src.transform[3]\n",
    "\n",
    "##   Mercator etc..\n",
    "crs = ccrs.PlateCarree()\n",
    "\n",
    "ax = plt.axes(projection=crs)\n",
    "plt.imshow(  data[:,:,0], origin='upper', \n",
    "             extent=[xmin, xmax, ymin, ymax], \n",
    "             cmap=plt.get_cmap('gist_earth'),\n",
    "             transform=crs, interpolation='nearest')\n",
    "\n"
   ]
  },
  {
   "cell_type": "markdown",
   "metadata": {},
   "source": [
    "=="
   ]
  },
  {
   "cell_type": "code",
   "execution_count": null,
   "metadata": {},
   "outputs": [],
   "source": [
    "## Show the same content, but with a colorbar legend for the data\n",
    "##\n",
    "plt.figure(figsize=(15, 10))\n",
    "ax = plt.subplot(111, projection=ccrs.PlateCarree())\n",
    "\n",
    "#elev, crs, extent = srtm_composite(12, 47, 1, 1)\n",
    "plt.imshow( data[:,:,0], transform=ccrs.PlateCarree(),\n",
    "           cmap='gist_earth')\n",
    "cb = plt.colorbar(orientation='vertical')\n",
    "cb.set_label('Altitude')\n",
    "plt.title(\"DEM\")\n",
    "\n"
   ]
  },
  {
   "cell_type": "code",
   "execution_count": null,
   "metadata": {},
   "outputs": [],
   "source": [
    "%whos"
   ]
  },
  {
   "cell_type": "code",
   "execution_count": null,
   "metadata": {},
   "outputs": [],
   "source": []
  }
 ],
 "metadata": {
  "kernelspec": {
   "display_name": "Python 3",
   "language": "python",
   "name": "python3"
  },
  "language_info": {
   "codemirror_mode": {
    "name": "ipython",
    "version": 3
   },
   "file_extension": ".py",
   "mimetype": "text/x-python",
   "name": "python",
   "nbconvert_exporter": "python",
   "pygments_lexer": "ipython3",
   "version": "3.8.5"
  }
 },
 "nbformat": 4,
 "nbformat_minor": 1
}
