{
 "cells": [
  {
   "cell_type": "markdown",
   "metadata": {},
   "source": [
    "<h1><center>[Notebooks](../) - [Introduction to GRASS GIS](../Introduction to GRASS GIS) - [Introduction ](../Introduction to GRASS GIS/Introduction to GRASS GIS.ipynb)</center></h1>"
   ]
  },
  {
   "cell_type": "markdown",
   "metadata": {
    "collapsed": true
   },
   "source": [
    "# Introduction to GRASS GIS\n",
    "\n",
    "* [GRASS working environment](GRASS working environment.ipynb)\n",
    "* [Map display](Map display.ipynb)\n",
    "* [Raster operation](Raster operation.ipynb) - placeholder\n",
    "* [Vector operation](Vector operation.ipynb) - placeholder\n",
    "* [Image processing](Image processing.ipynb) - placeholder\n",
    "\n",
    "# [python-grass-addons](python-grass-addons/00 Introduction.ipynb)"
   ]
  },
  {
   "cell_type": "code",
   "execution_count": null,
   "metadata": {
    "collapsed": true
   },
   "outputs": [],
   "source": []
  }
 ],
 "metadata": {
  "kernelspec": {
   "display_name": "Python 2",
   "language": "python",
   "name": "python2"
  },
  "language_info": {
   "codemirror_mode": {
    "name": "ipython",
    "version": 2
   },
   "file_extension": ".py",
   "mimetype": "text/x-python",
   "name": "python",
   "nbconvert_exporter": "python",
   "pygments_lexer": "ipython2",
   "version": "2.7.6"
  }
 },
 "nbformat": 4,
 "nbformat_minor": 0
}
