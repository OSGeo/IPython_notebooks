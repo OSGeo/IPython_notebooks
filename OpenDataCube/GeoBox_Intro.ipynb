{
 "cells": [
  {
   "cell_type": "markdown",
   "id": "452bef60",
   "metadata": {},
   "source": [
    "## GeoBox by Geoscience Australia\n",
    "###   Kirill888  Kirill Kouzoubov & v0lat1le Gregory Raevski\n",
    "\n",
    "https://odc-geo.readthedocs.io/en/latest/"
   ]
  },
  {
   "cell_type": "code",
   "execution_count": null,
   "id": "3b326272",
   "metadata": {},
   "outputs": [],
   "source": [
    "from odc.geo.geobox import GeoBox\n",
    "GeoBox.from_bbox(\n",
    "   (-2_000_000, -5_000_000,\n",
    "   2_250_000, -1_000_000),\n",
    "   \"epsg:3577\", resolution=1000)"
   ]
  },
  {
   "cell_type": "code",
   "execution_count": null,
   "id": "8d4ec84b",
   "metadata": {},
   "outputs": [],
   "source": []
  }
 ],
 "metadata": {
  "kernelspec": {
   "display_name": "Python 3 (ipykernel)",
   "language": "python",
   "name": "python3"
  },
  "language_info": {
   "codemirror_mode": {
    "name": "ipython",
    "version": 3
   },
   "file_extension": ".py",
   "mimetype": "text/x-python",
   "name": "python",
   "nbconvert_exporter": "python",
   "pygments_lexer": "ipython3",
   "version": "3.10.6"
  }
 },
 "nbformat": 4,
 "nbformat_minor": 5
}
