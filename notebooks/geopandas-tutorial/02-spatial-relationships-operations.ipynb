{
 "cells": [
  {
   "cell_type": "markdown",
   "metadata": {},
   "source": [
    "# Spatial relationships and operations"
   ]
  },
  {
   "cell_type": "code",
   "execution_count": 1,
   "metadata": {},
   "outputs": [],
   "source": [
    "%matplotlib inline\n",
    "\n",
    "import pandas as pd\n",
    "import geopandas\n",
    "\n",
    "pd.options.display.max_rows = 10"
   ]
  },
  {
   "cell_type": "code",
   "execution_count": 2,
   "metadata": {},
   "outputs": [],
   "source": [
    "countries = geopandas.read_file(\"zip://./data/ne_110m_admin_0_countries.zip\")\n",
    "cities = geopandas.read_file(\"zip://./data/ne_110m_populated_places.zip\")\n",
    "rivers = geopandas.read_file(\"zip://./data/ne_50m_rivers_lake_centerlines.zip\")"
   ]
  },
  {
   "cell_type": "markdown",
   "metadata": {},
   "source": [
    "## Spatial relationships\n",
    "\n",
    "An important aspect of geospatial data is that we can look at *spatial relationships*: how two spatial objects relate to each other (whether they overlap, intersect, contain, .. one another).\n",
    "\n",
    "The topological, set-theoretic relationships in GIS are typically based on the DE-9IM model. See https://en.wikipedia.org/wiki/Spatial_relation for more information.\n",
    "\n",
    "![](img/TopologicSpatialRelarions2.png)\n",
    "(Image by [Krauss, CC BY-SA 3.0](https://en.wikipedia.org/wiki/Spatial_relation#/media/File:TopologicSpatialRelarions2.png))"
   ]
  },
  {
   "cell_type": "markdown",
   "metadata": {},
   "source": [
    "### Relationships between individual objects"
   ]
  },
  {
   "cell_type": "markdown",
   "metadata": {},
   "source": [
    "Let's first create some small toy spatial objects:\n",
    "\n",
    "A polygon <small>(note: we use `.squeeze()` here to to extract the scalar geometry object from the GeoSeries of length 1)</small>:"
   ]
  },
  {
   "cell_type": "code",
   "execution_count": 3,
   "metadata": {},
   "outputs": [],
   "source": [
    "belgium = countries.loc[countries['name'] == 'Belgium', 'geometry'].squeeze()"
   ]
  },
  {
   "cell_type": "markdown",
   "metadata": {},
   "source": [
    "Two points:"
   ]
  },
  {
   "cell_type": "code",
   "execution_count": 4,
   "metadata": {},
   "outputs": [],
   "source": [
    "paris = cities.loc[cities['name'] == 'Paris', 'geometry'].squeeze()\n",
    "brussels = cities.loc[cities['name'] == 'Brussels', 'geometry'].squeeze()"
   ]
  },
  {
   "cell_type": "markdown",
   "metadata": {},
   "source": [
    "And a linestring:"
   ]
  },
  {
   "cell_type": "code",
   "execution_count": 5,
   "metadata": {},
   "outputs": [],
   "source": [
    "from shapely.geometry import LineString\n",
    "line = LineString([paris, brussels])"
   ]
  },
  {
   "cell_type": "markdown",
   "metadata": {},
   "source": [
    "Let's visualize those 4 geometry objects together (I only put them in a GeoSeries to easily display them together with the geopandas `.plot()` method):"
   ]
  },
  {
   "cell_type": "code",
   "execution_count": 6,
   "metadata": {},
   "outputs": [
    {
     "data": {
      "text/plain": [
       "<matplotlib.axes._subplots.AxesSubplot at 0x7f160b969390>"
      ]
     },
     "execution_count": 6,
     "metadata": {},
     "output_type": "execute_result"
    },
    {
     "data": {
      "image/png": "[encoded data removed]",
      "text/plain": [
       "<matplotlib.figure.Figure at 0x7f16441bcbd0>"
      ]
     },
     "metadata": {},
     "output_type": "display_data"
    }
   ],
   "source": [
    "geopandas.GeoSeries([belgium, paris, brussels, line]).plot(cmap='tab10')"
   ]
  },
  {
   "cell_type": "markdown",
   "metadata": {},
   "source": [
    "You can recognize the abstract shape of Belgium.\n",
    "\n",
    "Brussels, the capital of Belgium, is thus located within Belgium. This is a spatial relationship, and we can test this using the individual shapely geometry objects as follow:"
   ]
  },
  {
   "cell_type": "code",
   "execution_count": 7,
   "metadata": {},
   "outputs": [
    {
     "data": {
      "text/plain": [
       "True"
      ]
     },
     "execution_count": 7,
     "metadata": {},
     "output_type": "execute_result"
    }
   ],
   "source": [
    "brussels.within(belgium)"
   ]
  },
  {
   "cell_type": "markdown",
   "metadata": {},
   "source": [
    "And using the reverse, Belgium contains Brussels:"
   ]
  },
  {
   "cell_type": "code",
   "execution_count": 8,
   "metadata": {},
   "outputs": [
    {
     "data": {
      "text/plain": [
       "True"
      ]
     },
     "execution_count": 8,
     "metadata": {},
     "output_type": "execute_result"
    }
   ],
   "source": [
    "belgium.contains(brussels)"
   ]
  },
  {
   "cell_type": "markdown",
   "metadata": {},
   "source": [
    "On the other hand, Paris is not located in Belgium:"
   ]
  },
  {
   "cell_type": "code",
   "execution_count": 9,
   "metadata": {},
   "outputs": [
    {
     "data": {
      "text/plain": [
       "False"
      ]
     },
     "execution_count": 9,
     "metadata": {},
     "output_type": "execute_result"
    }
   ],
   "source": [
    "belgium.contains(paris)"
   ]
  },
  {
   "cell_type": "code",
   "execution_count": 10,
   "metadata": {},
   "outputs": [
    {
     "data": {
      "text/plain": [
       "False"
      ]
     },
     "execution_count": 10,
     "metadata": {},
     "output_type": "execute_result"
    }
   ],
   "source": [
    "paris.within(belgium)"
   ]
  },
  {
   "cell_type": "markdown",
   "metadata": {},
   "source": [
    "The straight line we draw from Paris to Brussels is not fully located within Belgium, but it does intersect with it:"
   ]
  },
  {
   "cell_type": "code",
   "execution_count": 11,
   "metadata": {},
   "outputs": [
    {
     "data": {
      "text/plain": [
       "False"
      ]
     },
     "execution_count": 11,
     "metadata": {},
     "output_type": "execute_result"
    }
   ],
   "source": [
    "belgium.contains(line)"
   ]
  },
  {
   "cell_type": "code",
   "execution_count": 12,
   "metadata": {},
   "outputs": [
    {
     "data": {
      "text/plain": [
       "True"
      ]
     },
     "execution_count": 12,
     "metadata": {},
     "output_type": "execute_result"
    }
   ],
   "source": [
    "line.intersects(belgium)"
   ]
  },
  {
   "cell_type": "markdown",
   "metadata": {},
   "source": [
    "### Spatial relationships with GeoDataFrames\n",
    "\n",
    "The same methods that are available on individual `shapely` geometries as we have seen above, are also available as methods on `GeoSeries` / `GeoDataFrame` objects.\n",
    "\n",
    "For example, if we call the `contains` method on the world dataset with the `paris` point, it will do this spatial check for each country in the `world` dataframe:"
   ]
  },
  {
   "cell_type": "code",
   "execution_count": 13,
   "metadata": {},
   "outputs": [
    {
     "data": {
      "text/plain": [
       "0      False\n",
       "1      False\n",
       "2      False\n",
       "3      False\n",
       "4      False\n",
       "       ...  \n",
       "172    False\n",
       "173    False\n",
       "174    False\n",
       "175    False\n",
       "176    False\n",
       "Length: 177, dtype: bool"
      ]
     },
     "execution_count": 13,
     "metadata": {},
     "output_type": "execute_result"
    }
   ],
   "source": [
    "countries.contains(paris)"
   ]
  },
  {
   "cell_type": "markdown",
   "metadata": {},
   "source": [
    "Because the above gives us a boolean result, we can use that to filter the dataframe:"
   ]
  },
  {
   "cell_type": "code",
   "execution_count": 14,
   "metadata": {},
   "outputs": [
    {
     "data": {
      "text/html": [
       "<div>\n",
       "<style scoped>\n",
       "    .dataframe tbody tr th:only-of-type {\n",
       "        vertical-align: middle;\n",
       "    }\n",
       "\n",
       "    .dataframe tbody tr th {\n",
       "        vertical-align: top;\n",
       "    }\n",
       "\n",
       "    .dataframe thead th {\n",
       "        text-align: right;\n",
       "    }\n",
       "</style>\n",
       "<table border=\"1\" class=\"dataframe\">\n",
       "  <thead>\n",
       "    <tr style=\"text-align: right;\">\n",
       "      <th></th>\n",
       "      <th>iso_a3</th>\n",
       "      <th>name</th>\n",
       "      <th>continent</th>\n",
       "      <th>pop_est</th>\n",
       "      <th>gdp_md_est</th>\n",
       "      <th>geometry</th>\n",
       "    </tr>\n",
       "  </thead>\n",
       "  <tbody>\n",
       "    <tr>\n",
       "      <th>55</th>\n",
       "      <td>FRA</td>\n",
       "      <td>France</td>\n",
       "      <td>Europe</td>\n",
       "      <td>67106161.0</td>\n",
       "      <td>2699000.0</td>\n",
       "      <td>(POLYGON ((2.513573032246114 51.14850617126189...</td>\n",
       "    </tr>\n",
       "  </tbody>\n",
       "</table>\n",
       "</div>"
      ],
      "text/plain": [
       "   iso_a3    name continent     pop_est  gdp_md_est  \\\n",
       "55    FRA  France    Europe  67106161.0   2699000.0   \n",
       "\n",
       "                                             geometry  \n",
       "55  (POLYGON ((2.513573032246114 51.14850617126189...  "
      ]
     },
     "execution_count": 14,
     "metadata": {},
     "output_type": "execute_result"
    }
   ],
   "source": [
    "countries[countries.contains(paris)]"
   ]
  },
  {
   "cell_type": "markdown",
   "metadata": {},
   "source": [
    "And indeed, France is the only country in the world in which Paris is located."
   ]
  },
  {
   "cell_type": "markdown",
   "metadata": {},
   "source": [
    "Another example, extracting the linestring of the Amazon river in South America, we can query through which countries the river flows:"
   ]
  },
  {
   "cell_type": "code",
   "execution_count": 15,
   "metadata": {},
   "outputs": [],
   "source": [
    "amazon = rivers[rivers['name'] == 'Amazonas'].geometry.squeeze()"
   ]
  },
  {
   "cell_type": "code",
   "execution_count": 16,
   "metadata": {},
   "outputs": [
    {
     "data": {
      "text/html": [
       "<div>\n",
       "<style scoped>\n",
       "    .dataframe tbody tr th:only-of-type {\n",
       "        vertical-align: middle;\n",
       "    }\n",
       "\n",
       "    .dataframe tbody tr th {\n",
       "        vertical-align: top;\n",
       "    }\n",
       "\n",
       "    .dataframe thead th {\n",
       "        text-align: right;\n",
       "    }\n",
       "</style>\n",
       "<table border=\"1\" class=\"dataframe\">\n",
       "  <thead>\n",
       "    <tr style=\"text-align: right;\">\n",
       "      <th></th>\n",
       "      <th>iso_a3</th>\n",
       "      <th>name</th>\n",
       "      <th>continent</th>\n",
       "      <th>pop_est</th>\n",
       "      <th>gdp_md_est</th>\n",
       "      <th>geometry</th>\n",
       "    </tr>\n",
       "  </thead>\n",
       "  <tbody>\n",
       "    <tr>\n",
       "      <th>22</th>\n",
       "      <td>BRA</td>\n",
       "      <td>Brazil</td>\n",
       "      <td>South America</td>\n",
       "      <td>207353391.0</td>\n",
       "      <td>3081000.0</td>\n",
       "      <td>POLYGON ((-57.625133429583 -30.21629485445423,...</td>\n",
       "    </tr>\n",
       "    <tr>\n",
       "      <th>35</th>\n",
       "      <td>COL</td>\n",
       "      <td>Colombia</td>\n",
       "      <td>South America</td>\n",
       "      <td>47698524.0</td>\n",
       "      <td>688000.0</td>\n",
       "      <td>POLYGON ((-66.87632585312258 1.253360500489336...</td>\n",
       "    </tr>\n",
       "    <tr>\n",
       "      <th>124</th>\n",
       "      <td>PER</td>\n",
       "      <td>Peru</td>\n",
       "      <td>South America</td>\n",
       "      <td>31036656.0</td>\n",
       "      <td>410400.0</td>\n",
       "      <td>POLYGON ((-69.52967810736496 -10.9517343075021...</td>\n",
       "    </tr>\n",
       "  </tbody>\n",
       "</table>\n",
       "</div>"
      ],
      "text/plain": [
       "    iso_a3      name      continent      pop_est  gdp_md_est  \\\n",
       "22     BRA    Brazil  South America  207353391.0   3081000.0   \n",
       "35     COL  Colombia  South America   47698524.0    688000.0   \n",
       "124    PER      Peru  South America   31036656.0    410400.0   \n",
       "\n",
       "                                              geometry  \n",
       "22   POLYGON ((-57.625133429583 -30.21629485445423,...  \n",
       "35   POLYGON ((-66.87632585312258 1.253360500489336...  \n",
       "124  POLYGON ((-69.52967810736496 -10.9517343075021...  "
      ]
     },
     "execution_count": 16,
     "metadata": {},
     "output_type": "execute_result"
    }
   ],
   "source": [
    "countries[countries.crosses(amazon)]  # or .intersects"
   ]
  },
  {
   "cell_type": "markdown",
   "metadata": {},
   "source": [
    "<div class=\"alert alert-info\" style=\"font-size:120%\">\n",
    "<b>REFERENCE</b>: <br><br>\n",
    "\n",
    "Overview of the different functions to check spatial relationships (*spatial predicate functions*):\n",
    "\n",
    "<ul>\n",
    "  <li>`equals`</li>\n",
    "  <li>`contains`</li>\n",
    "  <li>`crosses`</li>\n",
    "  <li>`disjoint`</li>\n",
    "  <li>`intersects`</li>\n",
    "  <li>`overlaps`</li>\n",
    "  <li>`touches`</li>\n",
    "  <li>`within`</li>\n",
    "  <li>`covers`</li>\n",
    "</ul>\n",
    "\n",
    "<p>\n",
    "See https://shapely.readthedocs.io/en/stable/manual.html#predicates-and-relationships for an overview of those methods.\n",
    "<p></p>\n",
    "See https://en.wikipedia.org/wiki/DE-9IM for all details on the semantics of those operations.\n",
    "</p>\n",
    "</div>"
   ]
  },
  {
   "cell_type": "markdown",
   "metadata": {},
   "source": [
    "## Spatial operations\n",
    "\n",
    "Next to the spatial predicates that return boolean values, Shapely and GeoPandas aslo provide analysis methods that return new geometric objects.\n",
    "\n",
    "See https://shapely.readthedocs.io/en/stable/manual.html#spatial-analysis-methods for more details."
   ]
  },
  {
   "cell_type": "markdown",
   "metadata": {},
   "source": [
    "For example, using the toy data from above, let's construct a buffer around Brussels (which returns a Polygon):"
   ]
  },
  {
   "cell_type": "code",
   "execution_count": 17,
   "metadata": {},
   "outputs": [
    {
     "data": {
      "text/plain": [
       "<matplotlib.axes._subplots.AxesSubplot at 0x7f160b956890>"
      ]
     },
     "execution_count": 17,
     "metadata": {},
     "output_type": "execute_result"
    },
    {
     "data": {
      "image/png": "[encoded data removed]",
      "text/plain": [
       "<matplotlib.figure.Figure at 0x7f160b9d8f90>"
      ]
     },
     "metadata": {},
     "output_type": "display_data"
    }
   ],
   "source": [
    "geopandas.GeoSeries([belgium, brussels.buffer(1)]).plot(alpha=0.5, cmap='tab10')"
   ]
  },
  {
   "cell_type": "markdown",
   "metadata": {},
   "source": [
    "and now take the intersection, union or difference of those two polygons:"
   ]
  },
  {
   "cell_type": "code",
   "execution_count": 18,
   "metadata": {},
   "outputs": [
    {
     "data": {
      "image/svg+xml": [
       "<svg xmlns=\"http://www.w3.org/2000/svg\" xmlns:xlink=\"http://www.w3.org/1999/xlink\" width=\"100.0\" height=\"100.0\" viewBox=\"3.25137074969 49.8274966498 2.16 1.72752705893\" preserveAspectRatio=\"xMinYMin meet\"><g transform=\"matrix(1,0,0,-1,0,101.382520358)\"><path fill-rule=\"evenodd\" fill=\"#66cc99\" stroke=\"#555555\" stroke-width=\"0.0432\" opacity=\"0.6\" d=\"M 5.33137074969,50.8352629353 L 5.32655547636,50.737245795 L 5.31215603009,50.6401726133 L 5.28831108542,50.5449782581 L 5.2552502822,50.452579503 L 5.21329201404,50.3638661985 L 5.16284036199,50.2796927023 L 5.10438120305,50.2008696512 L 5.03847753088,50.1281561541 L 4.96576403385,50.062252482 L 4.88694098271,50.003793323 L 4.82970519496,49.9694875121 L 4.79922163252,49.9853730332 L 4.28602298343,49.9074966498 L 3.58818444176,50.378992418 L 3.36850335243,50.5686404141 L 3.35058546929,50.6401726133 L 3.33618602302,50.737245795 L 3.33137074969,50.8352629353 L 3.33618602302,50.9332800757 L 3.35058546929,51.0303532573 L 3.37443041396,51.1255476126 L 3.40749121718,51.2179463677 L 3.44944948534,51.3066596722 L 3.46334690434,51.329846115 L 4.04707116051,51.2672586127 L 4.97399132653,51.4750237087 L 5.21034237085,51.3115808545 L 5.21329201404,51.3066596722 L 5.2552502822,51.2179463677 L 5.28831108542,51.1255476126 L 5.31215603009,51.0303532573 L 5.32655547636,50.9332800757 L 5.33137074969,50.8352629353 L 5.33137074969,50.8352629353 z\" /></g></svg>"
      ],
      "text/plain": [
       "<shapely.geometry.polygon.Polygon at 0x7f160b985750>"
      ]
     },
     "execution_count": 18,
     "metadata": {},
     "output_type": "execute_result"
    }
   ],
   "source": [
    "brussels.buffer(1).intersection(belgium)"
   ]
  },
  {
   "cell_type": "code",
   "execution_count": 19,
   "metadata": {},
   "outputs": [
    {
     "data": {
      "image/svg+xml": [
       "<svg xmlns=\"http://www.w3.org/2000/svg\" xmlns:xlink=\"http://www.w3.org/1999/xlink\" width=\"100.0\" height=\"100.0\" viewBox=\"2.3678496273 49.3837601426 3.93453193361 2.59722619767\" preserveAspectRatio=\"xMinYMin meet\"><g transform=\"matrix(1,0,0,-1,0,101.364746483)\"><path fill-rule=\"evenodd\" fill=\"#66cc99\" stroke=\"#555555\" stroke-width=\"0.0786906386722\" opacity=\"0.6\" d=\"M 4.82970519496,49.9694875121 L 4.80276748652,49.953341671 L 4.71405418206,49.9113834028 L 4.62165542694,49.8783225996 L 4.52646107171,49.8544776549 L 4.42938789002,49.8400782087 L 4.33137074969,49.8352629353 L 4.23335360936,49.8400782087 L 4.13628042767,49.8544776549 L 4.04108607244,49.8783225996 L 3.94868731733,49.9113834028 L 3.85997401286,49.953341671 L 3.77580051667,50.003793323 L 3.69697746553,50.062252482 L 3.6242639685,50.1281561541 L 3.55836029633,50.2008696512 L 3.49990113739,50.2796927023 L 3.44944948534,50.3638661985 L 3.40749121718,50.452579503 L 3.37443041396,50.5449782581 L 3.36850335243,50.5686404141 L 3.12325158043,50.7803632676 L 2.65842207196,50.7968480495 L 2.51357303225,51.1485061713 L 3.31497114423,51.3457809515 L 3.31501148496,51.3457766247 L 3.31497114423,51.3457551133 L 3.46334690434,51.329846115 L 3.49990113739,51.3908331683 L 3.55836029633,51.4696562195 L 3.6242639685,51.5423697165 L 3.69697746553,51.6082733887 L 3.77580051667,51.6667325476 L 3.85997401286,51.7171841997 L 3.94868731733,51.7591424678 L 4.04108607244,51.7922032711 L 4.13628042767,51.8160482157 L 4.23335360936,51.830447662 L 4.33137074969,51.8352629353 L 4.42938789002,51.830447662 L 4.52646107171,51.8160482157 L 4.62165542694,51.7922032711 L 4.71405418206,51.7591424678 L 4.80276748652,51.7171841997 L 4.88694098271,51.6667325476 L 4.96576403385,51.6082733887 L 5.03847753088,51.5423697165 L 5.10438120305,51.4696562195 L 5.16284036199,51.3908331683 L 5.21034237085,51.3115808545 L 5.60697594567,51.037298489 L 6.15665815596,50.803721015 L 6.04307335778,50.1280516628 L 5.7824174333,50.0903278672 L 5.67405195478,49.5294835476 L 4.82970519496,49.9694875121 z\" /></g></svg>"
      ],
      "text/plain": [
       "<shapely.geometry.polygon.Polygon at 0x7f160b820a90>"
      ]
     },
     "execution_count": 19,
     "metadata": {},
     "output_type": "execute_result"
    }
   ],
   "source": [
    "brussels.buffer(1).union(belgium)"
   ]
  },
  {
   "cell_type": "code",
   "execution_count": 20,
   "metadata": {},
   "outputs": [
    {
     "data": {
      "image/svg+xml": [
       "<svg xmlns=\"http://www.w3.org/2000/svg\" xmlns:xlink=\"http://www.w3.org/1999/xlink\" width=\"100.0\" height=\"100.0\" viewBox=\"3.28850335243 49.7552629353 2.00183901842 2.16\" preserveAspectRatio=\"xMinYMin meet\"><g transform=\"matrix(1,0,0,-1,0,101.670525871)\"><g><path fill-rule=\"evenodd\" fill=\"#66cc99\" stroke=\"#555555\" stroke-width=\"0.0432\" opacity=\"0.6\" d=\"M 4.82970519496,49.9694875121 L 4.80276748652,49.953341671 L 4.71405418206,49.9113834028 L 4.62165542694,49.8783225996 L 4.52646107171,49.8544776549 L 4.42938789002,49.8400782087 L 4.33137074969,49.8352629353 L 4.23335360936,49.8400782087 L 4.13628042767,49.8544776549 L 4.04108607244,49.8783225996 L 3.94868731733,49.9113834028 L 3.85997401286,49.953341671 L 3.77580051667,50.003793323 L 3.69697746553,50.062252482 L 3.6242639685,50.1281561541 L 3.55836029633,50.2008696512 L 3.49990113739,50.2796927023 L 3.44944948534,50.3638661985 L 3.40749121718,50.452579503 L 3.37443041396,50.5449782581 L 3.36850335243,50.5686404141 L 3.58818444176,50.378992418 L 4.28602298343,49.9074966498 L 4.79922163252,49.9853730332 L 4.82970519496,49.9694875121 z\" /><path fill-rule=\"evenodd\" fill=\"#66cc99\" stroke=\"#555555\" stroke-width=\"0.0432\" opacity=\"0.6\" d=\"M 3.46334690434,51.329846115 L 3.49990113739,51.3908331683 L 3.55836029633,51.4696562195 L 3.6242639685,51.5423697165 L 3.69697746553,51.6082733887 L 3.77580051667,51.6667325476 L 3.85997401286,51.7171841997 L 3.94868731733,51.7591424678 L 4.04108607244,51.7922032711 L 4.13628042767,51.8160482157 L 4.23335360936,51.830447662 L 4.33137074969,51.8352629353 L 4.42938789002,51.830447662 L 4.52646107171,51.8160482157 L 4.62165542694,51.7922032711 L 4.71405418206,51.7591424678 L 4.80276748652,51.7171841997 L 4.88694098271,51.6667325476 L 4.96576403385,51.6082733887 L 5.03847753088,51.5423697165 L 5.10438120305,51.4696562195 L 5.16284036199,51.3908331683 L 5.21034237085,51.3115808545 L 4.97399132653,51.4750237087 L 4.04707116051,51.2672586127 L 3.46334690434,51.329846115 z\" /></g></g></svg>"
      ],
      "text/plain": [
       "<shapely.geometry.multipolygon.MultiPolygon at 0x7f160b985b50>"
      ]
     },
     "execution_count": 20,
     "metadata": {},
     "output_type": "execute_result"
    }
   ],
   "source": [
    "brussels.buffer(1).difference(belgium)"
   ]
  },
  {
   "cell_type": "markdown",
   "metadata": {},
   "source": [
    "Another useful method is the `unary_union` attribute, which converts the set of geometry objects in a GeoDataFrame into a single geometry object by taking the union of all those geometries.\n",
    "\n",
    "For example, we can construct a single object for the Africa continent:"
   ]
  },
  {
   "cell_type": "code",
   "execution_count": 21,
   "metadata": {},
   "outputs": [],
   "source": [
    "africa_countries = countries[countries['continent'] == 'Africa']"
   ]
  },
  {
   "cell_type": "code",
   "execution_count": 22,
   "metadata": {},
   "outputs": [],
   "source": [
    "africa = africa_countries.unary_union"
   ]
  },
  {
   "cell_type": "code",
   "execution_count": 23,
   "metadata": {},
   "outputs": [
    {
     "data": {
      "image/svg+xml": [
       "<svg xmlns=\"http://www.w3.org/2000/svg\" xmlns:xlink=\"http://www.w3.org/1999/xlink\" width=\"100.0\" height=\"100.0\" viewBox=\"-20.5118091212 -37.7059327858 74.5324455518 77.9426936282\" preserveAspectRatio=\"xMinYMin meet\"><g transform=\"matrix(1,0,0,-1,0,2.53082805664)\"><g><path fill-rule=\"evenodd\" fill=\"#66cc99\" stroke=\"#555555\" stroke-width=\"1.55885387256\" opacity=\"0.6\" d=\"M 49.5435189146,-12.4698328589 L 49.8089807473,-12.895284926 L 50.056510858,-13.5557614071 L 50.2174312681,-14.7587887509 L 50.4765368996,-15.2265121396 L 50.3771114439,-15.7060694312 L 50.2002746926,-16.0002633603 L 49.8606055031,-15.4142526181 L 49.6726066425,-15.7102035458 L 49.8633443541,-16.4510368791 L 49.7745642434,-16.8750420061 L 49.4986120949,-17.1060356584 L 49.435618524,-17.9530640601 L 49.0417924335,-19.1187810198 L 48.5485408872,-20.4968881161 L 47.9307491392,-22.3915011533 L 47.5477234231,-23.7819589169 L 47.0957613462,-24.941629734 L 46.2824776548,-25.1784628232 L 45.4095076841,-25.6014344215 L 44.8335738462,-25.3461011695 L 44.0397204933,-24.9883452288 L 43.7637683449,-24.4606771786 L 43.6977775409,-23.5741163063 L 43.3456543312,-22.7769039853 L 43.2541870461,-22.0574130185 L 43.4332975604,-21.3364751116 L 43.8936828957,-21.163307387 L 43.8963700702,-20.8304594866 L 44.3743253924,-20.0723662249 L 44.4643974139,-19.4354541969 L 44.2324219094,-18.9619947242 L 44.0429761086,-18.3313872209 L 43.9630843443,-17.4099447567 L 44.312468703,-16.8504957008 L 44.4465173684,-16.2162191708 L 44.9449365578,-16.1793738746 L 45.502731968,-15.9743734677 L 45.8729936053,-15.7934542782 L 46.3122432798,-15.7800184058 L 46.8821826516,-15.2101823869 L 47.7051298358,-14.5943026669 L 48.0052148781,-14.0912325985 L 47.869047479,-13.6638685035 L 48.2938277525,-13.784067885 L 48.8450602557,-13.0891749 L 48.8635087421,-12.4878679338 L 49.1946513202,-12.0405567359 L 49.5435189146,-12.4698328589 z\" /><path fill-rule=\"evenodd\" fill=\"#66cc99\" stroke=\"#555555\" stroke-width=\"1.55885387256\" opacity=\"0.6\" d=\"M -7.71215938967,4.36456594484 L -7.97410722496,4.35575511313 L -9.00479366702,4.83241852459 L -9.91342037601,5.59356069582 L -10.765383877,6.14071076093 L -11.4387794662,6.78591685631 L -11.7081945459,6.86009837486 L -12.4280989242,7.26294200279 L -12.9490490381,7.79864573815 L -13.1240254379,8.16394643802 L -13.2465502588,8.90304861087 L -13.6851539779,9.49474376061 L -14.0740449691,9.88616689701 L -14.3300758529,10.0157197128 L -14.5796988591,10.2144672714 L -14.6932319808,10.6563007675 L -14.8395537989,10.8765715601 L -15.1303112452,11.0404116887 L -15.6641804672,11.4584740259 L -16.0852141993,11.524594021 L -16.3147867497,11.8065147974 L -16.3089473129,11.9587018905 L -16.6138382634,12.1709111597 L -16.6774519516,12.3848515894 L -16.8415246241,13.1513939478 L -16.713728807,13.5949586044 L -17.1261067367,14.3735157333 L -17.6250426905,14.7295405136 L -17.1851728988,14.9194772405 L -16.7007063461,15.6215274114 L -16.4630981104,16.135036119 L -16.5497078109,16.6738921168 L -16.2705517237,17.1669627955 L -16.1463474187,18.1084815536 L -16.2568833073,19.0967158066 L -16.3776511296,19.593817247 L -16.2778381006,20.0925206568 L -16.536323615,20.5678663193 L -17.0634232243,20.9997521021 L -17.0204284327,21.422310289 L -16.97324785,21.8857445338 L -16.5891369288,22.1582343613 L -16.2619217595,22.6793395045 L -16.326413947,23.0177684596 L -15.982610643,23.7233584661 L -15.4260037907,24.3591336126 L -15.0893318344,24.5202607284 L -14.8246451482,25.1035326197 L -14.8009256657,25.6362649602 L -14.439939948,26.2544184433 L -13.7738048975,26.6188923203 L -13.139941779,27.6401478134 L -13.1216133699,27.6541476717 L -12.6188366358,28.0381855331 L -11.6889192367,28.1486439072 L -10.9009569971,28.8321422389 L -10.399592251,29.0985859238 L -9.56481116377,29.9335737167 L -9.81471839033,31.1777355006 L -9.43479326012,32.0380964218 L -9.30069291832,32.5646792669 L -8.65747636558,33.2402452662 L -7.65417843264,33.6970649277 L -6.9125441146,34.110476386 L -6.24434200685,35.1458653834 L -5.92999426922,35.7599881048 L -5.19386349122,35.7551821966 L -4.59100623211,35.3307119817 L -3.64005652507,35.3998550482 L -2.60430579264,35.1790933294 L -2.1699137028,35.1683963079 L -1.20860287109,35.7148487412 L -0.127454392895,35.8886624212 L 0.503876580415,36.3012728948 L 1.46691857261,36.605647081 L 3.16169884605,36.7839049342 L 4.81575809085,36.8650369329 L 5.32012007002,36.7165188665 L 6.26181969567,37.1106550156 L 7.3303849626,37.1183806422 L 7.73707848474,36.8857075058 L 8.42096438969,36.9464273138 L 9.50999352381,37.3499944118 L 10.2100024756,37.230001736 L 10.1806502621,36.7240377874 L 11.0288672217,37.0921031764 L 11.100025669,36.8999960394 L 10.6000045101,36.4100001084 L 10.5932865739,35.9474443629 L 10.9395186703,35.6989840765 L 10.8078471208,34.8335071884 L 10.1495927263,34.3307730169 L 10.3396586443,33.7857416855 L 10.8568363786,33.7687401393 L 11.1085006039,33.2933428004 L 11.4887874691,33.1369957545 L 12.66331,32.79278 L 13.08326,32.87882 L 13.91868,32.71196 L 15.24563,32.26508 L 15.71394,31.37626 L 16.61162,31.18218 L 18.02109,30.76357 L 19.08641,30.26639 L 19.57404,30.52582 L 20.05335,30.98576 L 19.82033,31.75179 L 20.13397,32.2382 L 20.85452,32.7068 L 21.54298,32.8432 L 22.89576,32.63858 L 23.2368,32.19149 L 23.60913,32.18726 L 23.9275,32.01667 L 24.92114,31.89936 L 25.16482,31.56915 L 26.49533,31.58568 L 27.45762,31.32126 L 28.45048,31.02577 L 28.91353,30.87005 L 29.68342,31.18686 L 30.09503,31.4734 L 30.97693,31.55586 L 31.68796,31.4296 L 31.96041,30.9336 L 32.19247,31.26034 L 32.99392,31.02407 L 33.7734,30.96746 L 34.2654347446,31.2193573095 L 34.26544,31.21936 L 34.8232432888,29.7610807617 L 34.9226,29.50133 L 34.64174,29.09942 L 34.42655,28.34399 L 34.15451,27.8233 L 33.92136,27.6487 L 33.58811,27.97136 L 33.13676,28.41765 L 32.42323,29.85108 L 32.32046,29.76043 L 32.73482,28.70523 L 33.34876,27.69989 L 34.10455,26.14227 L 34.47387,25.59856 L 34.79507,25.03375 L 35.69241,23.92671 L 35.49372,23.75237 L 35.52598,23.10244 L 36.69069,22.20485 L 36.86623,22.0 L 37.18872,21.01885 L 36.96941,20.83744 L 37.1147,19.80796 L 37.48179,18.61409 L 37.86276,18.36786 L 38.4100899595,17.9983074 L 38.9906229998,16.8406261256 L 39.2661100604,15.922723497 L 39.8142936541,15.4356472844 L 41.1792749367,14.4910796168 L 41.7349516131,13.9210368921 L 42.2768306821,13.343992011 L 42.5895764504,13.0004212509 L 43.0812260272,12.6996385767 L 43.3178524107,12.3901484237 L 43.2863814634,11.9749282902 L 42.7158736509,11.7356405705 L 43.1453048032,11.4620396997 L 43.470659621,11.2777098658 L 43.6666683286,10.8641692163 L 44.1178035825,10.4455384384 L 44.6142590676,10.4422053085 L 45.5569405454,10.6980294865 L 46.6454012388,10.816549384 L 47.5256575865,11.1272280949 L 48.0215963072,11.1930638697 L 48.3787838072,11.3754816757 L 48.9482064146,11.4106216496 L 48.9482047585,11.4106172817 L 49.26776,11.43033 L 49.72862,11.5789 L 50.25878,11.67957 L 50.73202,12.0219 L 51.1112,12.02464 L 51.13387,11.74815 L 51.04153,11.16651 L 51.04531,10.6409 L 50.83418,10.27972 L 50.55239,9.19874 L 50.07092,8.08173 L 49.4527,6.80466 L 48.59455,5.33911 L 47.74079,4.2194 L 46.56476,2.85529 L 45.56399,2.04576 L 44.06815,1.05283 L 43.13597,0.2922 L 42.04157,-0.91916 L 41.81095,-1.44647 L 41.58513,-1.68325 L 40.88477,-2.08255 L 40.63785,-2.49979 L 40.26304,-2.57309 L 40.12119,-3.27768 L 39.80006,-3.68116 L 39.60489,-4.34653 L 39.20222,-4.67677 L 38.74054,-5.90895 L 38.79977,-6.47566 L 39.44,-6.84 L 39.47,-7.1 L 39.19469,-7.7039 L 39.25203,-8.00781 L 39.18652,-8.48551 L 39.53574,-9.11237 L 39.9496,-10.0984 L 40.3165862291,-10.3170977528 L 40.316588576,-10.3170960425 L 40.4783874855,-10.7654407691 L 40.4372530454,-11.7617107072 L 40.560811395,-12.6391765276 L 40.5996203957,-14.2019751929 L 40.7754752948,-14.6917644182 L 40.477250604,-15.4062944475 L 40.0892639504,-16.1007740211 L 39.4525586281,-16.7208912086 L 38.5383508644,-17.1010230445 L 37.4111328468,-17.5863680966 L 36.2812793312,-18.6596875953 L 35.8964966164,-18.8422604306 L 35.1983996925,-19.5528113746 L 34.7863834979,-19.7840117327 L 34.7018925311,-20.4970431454 L 35.1761271502,-21.2543612607 L 35.3734277687,-21.8408370907 L 35.3858482537,-22.14 L 35.5625455364,-22.09 L 35.5339347674,-23.0707878557 L 35.3717741229,-23.535358982 L 35.6074703306,-23.7065630022 L 35.4587455584,-24.1226099586 L 35.0407348976,-24.4783505185 L 34.2158240089,-24.8163143857 L 33.0132100766,-25.3575733375 L 32.5746321958,-25.7273182106 L 32.660363397,-26.1485844866 L 32.9159550311,-26.2158672014 L 32.830120477,-26.7421916643 L 32.5802649269,-27.470157566 L 32.4621326027,-28.3010112444 L 32.2033887062,-28.7524048805 L 31.5210014178,-29.2573869768 L 31.3255611509,-29.4019776344 L 30.9017627296,-29.9099569638 L 30.6228133481,-30.4237757301 L 30.0557161801,-31.1402694638 L 28.9255526059,-32.172041111 L 28.2197558937,-32.7719528134 L 27.4646081886,-33.2269637998 L 26.4194523455,-33.6149504534 L 25.9096643409,-33.6670402972 L 25.7806282895,-33.9446460914 L 25.1728617693,-33.7968514951 L 24.6778532244,-33.9871757952 L 23.5940434099,-33.7944743792 L 22.9881889177,-33.9164307594 L 22.5741573422,-33.8640825335 L 21.5427991065,-34.2588387998 L 20.6890527686,-34.4171753883 L 20.0712610206,-34.7951368141 L 19.6164050636,-34.8191663551 L 19.193278436,-34.4625989723 L 18.8553145688,-34.4443055153 L 18.424643182,-33.9978728167 L 18.3774109229,-34.1365206845 L 18.2444991391,-33.8677515602 L 18.2500801938,-33.2814307594 L 17.9251904639,-32.6112907855 L 18.2479097836,-32.4291313616 L 18.2217615089,-31.6616329892 L 17.5669177589,-30.725721124 L 17.0644161313,-29.8786410459 L 17.0629175147,-29.8759538714 L 16.3449768409,-28.5767050107 L 15.6018180681,-27.821247247 L 15.2104724464,-27.0909559059 L 14.9897107276,-26.1173719215 L 14.7432141456,-25.3929200172 L 14.4081441586,-23.8530140113 L 14.385716587,-22.6566529273 L 14.2577140642,-22.1112081845 L 13.8686422055,-21.6990369605 L 13.3524979997,-20.8728341611 L 12.8268453305,-19.6731657854 L 12.6085640805,-19.0453488095 L 11.794918654,-18.0691293271 L 11.7341988461,-17.3018893368 L 11.6400960629,-16.6731421851 L 11.778537225,-15.7938160133 L 12.1235807634,-14.8783163388 L 12.1756189307,-14.4491435686 L 12.5000952491,-13.5476998837 L 12.7384786312,-13.1379057756 L 13.3129138526,-12.4836304664 L 13.6337211443,-12.0386447079 L 13.7387276547,-11.297863051 L 13.6863794288,-10.7310759416 L 13.3873279151,-10.373578383 L 13.1209875831,-9.76689706791 L 12.8753695004,-9.16693368901 L 12.9290613135,-8.95909107833 L 13.2364327328,-8.56262948978 L 12.9330403988,-7.59653858809 L 12.7282983741,-6.92712208418 L 12.2273470394,-6.29444752363 L 12.3224316749,-6.10009246178 L 12.1823368669,-5.78993051516 L 11.9149630062,-5.03798674888 L 11.0937728207,-3.97882659263 L 10.0661352881,-2.96948251711 L 9.40524539555,-2.14431324627 L 8.79799563969,-1.11130136475 L 8.83008670415,-0.77907358155 L 9.04841963058,-0.45935149496 L 9.29135053878,0.268666083168 L 9.49288862472,1.01011953369 L 9.3056132341,1.16091136312 L 9.64915815597,2.28386607504 L 9.79519575363,3.07340444581 L 9.40436689621,3.73452688234 L 8.9481156755,3.90412893312 L 8.74492394373,4.35221527752 L 8.48881554529,4.49561737713 L 8.50028771326,4.77198293703 L 7.46210818852,4.41210826255 L 7.08259646976,4.4646890324 L 6.69807213708,4.24059418377 L 5.89817264163,4.26245331463 L 5.36280480309,4.88797068931 L 5.03357425296,5.61180247642 L 4.32560713056,6.27065114992 L 3.5741801286,6.25830048261 L 2.69170169436,6.25881724693 L 1.86524051271,6.14215770103 L 1.0601216976,5.92883738853 L -0.507637905266,5.34347260174 L -1.06362464029,5.00054779705 L -1.96470659017,4.71046214438 L -2.8561250472,4.99447581626 L -3.3110843571,4.9842955591 L -4.0088195459,5.17981334067 L -4.64991736492,5.16826365806 L -5.83449622234,4.99370066978 L -6.52876909019,4.70508779543 L -7.51894120933,4.33828847902 L -7.71215938967,4.36456594484 z\" /></g></g></svg>"
      ],
      "text/plain": [
       "<shapely.geometry.multipolygon.MultiPolygon at 0x7f160b864950>"
      ]
     },
     "execution_count": 23,
     "metadata": {},
     "output_type": "execute_result"
    }
   ],
   "source": [
    "africa"
   ]
  },
  {
   "cell_type": "code",
   "execution_count": 24,
   "metadata": {
    "scrolled": false
   },
   "outputs": [
    {
     "name": "stdout",
     "output_type": "stream",
     "text": [
      "MULTIPOLYGON (((49.54351891459575 -12.46983285894055, 49.80898074727909 -12.89528492599955, 50.05651085795716 -13.55576140712198, 50.21743126811407 -14.7587887508768, 50.47653689962553 -15.22651213955054, 50.37711144389596 -15.70606943121913, 50.20027469259318 -16.00026336025677, 49.86060550313868 -15.41425261806692, 49.67260664246086 -15.71020354580248, 49.86334435405016 -16.45103687913878, 49.77456424337271 -16.8750420060936, 49.49861209493412 -17.10603565843827, 49.43561852397031 -17.95306406013437, 49.04179243347394 -19.11878101977445, 48.54854088724801 -20.49688811613413, 47.93074913919867 -22.39150115325108, 47.54772342305131 -23.78195891692852, 47.0957613462266 -24.94162973399045, 46.28247765481709 -25.17846282318411, 45.40950768411045 -25.60143442149309, 44.83357384621755 -25.34610116953894, 44.03972049334976 -24.98834522878231, 43.76376834491117 -24.46067717864999, 43.69777754087445 -23.5741163062506, 43.34565433123763 -22.77690398528387, 43.254187046081 -22.05741301848412, 43\n"
     ]
    }
   ],
   "source": [
    "print(str(africa)[:1000])"
   ]
  },
  {
   "cell_type": "markdown",
   "metadata": {},
   "source": [
    "<div class=\"alert alert-info\" style=\"font-size:120%\">\n",
    "<b>REMEMBER</b>: <br><br>\n",
    "\n",
    "GeoPandas (and Shapely for the individual objects) provides a whole lot of basic methods to analyse the geospatial data (distance, length, centroid, boundary, convex_hull, simplify, transform, ....), much more than the few that we can touch in this tutorial.\n",
    "\n",
    "\n",
    "<ul>\n",
    "  <li>An overview of all methods provided by GeoPandas can be found here: http://geopandas.readthedocs.io/en/latest/reference.html</li>\n",
    "</ul>\n",
    "\n",
    "</div>\n",
    "\n"
   ]
  },
  {
   "cell_type": "code",
   "execution_count": null,
   "metadata": {},
   "outputs": [],
   "source": []
  },
  {
   "cell_type": "code",
   "execution_count": null,
   "metadata": {},
   "outputs": [],
   "source": []
  }
 ],
 "metadata": {
  "kernelspec": {
   "display_name": "Python 2",
   "language": "python",
   "name": "python2"
  },
  "language_info": {
   "codemirror_mode": {
    "name": "ipython",
    "version": 2
   },
   "file_extension": ".py",
   "mimetype": "text/x-python",
   "name": "python",
   "nbconvert_exporter": "python",
   "pygments_lexer": "ipython2",
   "version": "2.7.15rc1"
  }
 },
 "nbformat": 4,
 "nbformat_minor": 2
}
