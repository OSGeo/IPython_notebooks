{
 "cells": [
  {
   "cell_type": "code",
   "execution_count": null,
   "metadata": {},
   "outputs": [],
   "source": [
    "import os\n",
    "import folium\n",
    "\n",
    "print(folium.__version__)"
   ]
  },
  {
   "cell_type": "code",
   "execution_count": null,
   "metadata": {},
   "outputs": [],
   "source": [
    "m = folium.Map(location=[41, -71], zoom_start=4)\n",
    "\n",
    "kw = {\n",
    "    'prefix': 'fa',\n",
    "    'color': 'green',\n",
    "    'icon': 'arrow-up'\n",
    "}\n",
    "\n",
    "angle = 180\n",
    "icon = folium.Icon(angle=angle, **kw)\n",
    "folium.Marker(location=[41, -72], icon=icon, tooltip=str(angle)).add_to(m)\n",
    "\n",
    "angle = 45\n",
    "icon = folium.Icon(angle=angle, **kw)\n",
    "folium.Marker(location=[41, -75], icon=icon, tooltip=str(angle)).add_to(m)\n",
    "\n",
    "angle = 90\n",
    "icon = folium.Icon(angle=angle, **kw)\n",
    "folium.Marker([41, -78], icon=icon, tooltip=str(angle)).add_to(m)\n",
    "\n",
    "#m.save(os.path.join('results', 'Rotate_icon.html'))\n",
    "\n",
    "m"
   ]
  },
  {
   "cell_type": "code",
   "execution_count": null,
   "metadata": {},
   "outputs": [],
   "source": []
  }
 ],
 "metadata": {
  "kernelspec": {
   "display_name": "Python 2",
   "language": "python",
   "name": "python2"
  },
  "language_info": {
   "codemirror_mode": {
    "name": "ipython",
    "version": 2
   },
   "file_extension": ".py",
   "mimetype": "text/x-python",
   "name": "python",
   "nbconvert_exporter": "python",
   "pygments_lexer": "ipython2",
   "version": "2.7.15+"
  }
 },
 "nbformat": 4,
 "nbformat_minor": 1
}
