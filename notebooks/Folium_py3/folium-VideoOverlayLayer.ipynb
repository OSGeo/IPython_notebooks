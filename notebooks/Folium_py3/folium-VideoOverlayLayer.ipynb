{
 "cells": [
  {
   "cell_type": "code",
   "execution_count": null,
   "metadata": {},
   "outputs": [],
   "source": [
    "import os\n",
    "import folium\n",
    "\n",
    "print(folium.__version__)"
   ]
  },
  {
   "cell_type": "code",
   "execution_count": null,
   "metadata": {},
   "outputs": [],
   "source": [
    "\n",
    "m = folium.Map(location=[22.5, -115], zoom_start=4)\n",
    "\n",
    "video = folium.raster_layers.VideoOverlay(\n",
    "    video_url='https://www.mapbox.com/bites/00188/patricia_nasa.webm',\n",
    "    bounds=[[32, -130], [13, -100]],\n",
    "    opacity=0.65,\n",
    "    attr='Video from patricia_nasa',\n",
    "    autoplay=True,\n",
    "    loop=False,\n",
    ")\n",
    "\n",
    "video.add_to(m)\n",
    "\n",
    "#m.save(os.path.join('results', 'VideoOverlayLayer.html'))\n",
    "\n",
    "m"
   ]
  },
  {
   "cell_type": "code",
   "execution_count": null,
   "metadata": {},
   "outputs": [],
   "source": []
  }
 ],
 "metadata": {
  "_draft": {
   "nbviewer_url": "https://gist.github.com/629da6f621481ed4d513258d2ec64589"
  },
  "gist": {
   "data": {
    "description": "folium video test",
    "public": true
   },
   "id": "629da6f621481ed4d513258d2ec64589"
  },
  "kernelspec": {
   "display_name": "Python 2",
   "language": "python",
   "name": "python2"
  },
  "language_info": {
   "codemirror_mode": {
    "name": "ipython",
    "version": 2
   },
   "file_extension": ".py",
   "mimetype": "text/x-python",
   "name": "python",
   "nbconvert_exporter": "python",
   "pygments_lexer": "ipython2",
   "version": "2.7.15+"
  }
 },
 "nbformat": 4,
 "nbformat_minor": 2
}
