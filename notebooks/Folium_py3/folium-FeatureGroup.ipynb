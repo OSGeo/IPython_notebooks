{
 "cells": [
  {
   "cell_type": "code",
   "execution_count": null,
   "metadata": {},
   "outputs": [],
   "source": [
    "import os\n",
    "import folium\n",
    "\n",
    "print(folium.__version__)"
   ]
  },
  {
   "cell_type": "code",
   "execution_count": null,
   "metadata": {},
   "outputs": [],
   "source": [
    "from folium import FeatureGroup, LayerControl, Map, Marker\n",
    "\n",
    "m = Map(\n",
    "    location=[45.372, -121.6972],\n",
    "    zoom_start=12,\n",
    "    tiles='Stamen Terrain'\n",
    ")\n",
    "\n",
    "feature_group = FeatureGroup(name='Some icons')\n",
    "Marker(location=[45.3288, -121.6625],\n",
    "       popup='Mt. Hood Meadows').add_to(feature_group)\n",
    "\n",
    "Marker(location=[45.3311, -121.7113],\n",
    "       popup='Timberline Lodge').add_to(feature_group)\n",
    "\n",
    "feature_group.add_to(m)\n",
    "LayerControl().add_to(m)\n",
    "\n",
    "#m.save(os.path.join('results', 'FeatureGroup.html'))\n",
    "\n",
    "m"
   ]
  },
  {
   "cell_type": "code",
   "execution_count": null,
   "metadata": {},
   "outputs": [],
   "source": []
  }
 ],
 "metadata": {
  "kernelspec": {
   "display_name": "Python 2",
   "language": "python",
   "name": "python2"
  },
  "language_info": {
   "codemirror_mode": {
    "name": "ipython",
    "version": 2
   },
   "file_extension": ".py",
   "mimetype": "text/x-python",
   "name": "python",
   "nbconvert_exporter": "python",
   "pygments_lexer": "ipython2",
   "version": "2.7.15+"
  }
 },
 "nbformat": 4,
 "nbformat_minor": 1
}
