{
 "cells": [
  {
   "cell_type": "markdown",
   "metadata": {},
   "source": [
    "# Choropleth Mapping With Folium and PySAL"
   ]
  },
  {
   "cell_type": "markdown",
   "metadata": {},
   "source": [
    "____\n",
    "## Author\n",
    "\n",
    "Serge Rey [sjsrey@gmail.com](sjsrey@gmail)\n",
    "\n",
    "## Requirements\n",
    "\n",
    "Since we will be pulling in tiles for basemaps, we need internet connectivity for what follows to work.\n",
    "____\n"
   ]
  },
  {
   "cell_type": "code",
   "execution_count": null,
   "metadata": {
    "collapsed": false
   },
   "outputs": [],
   "source": [
    "from IPython.display import HTML\n",
    "\n",
    "import pysal as ps\n",
    "import numpy as np\n",
    "import pandas as pd\n",
    "\n",
    "#import matplotlib.pyplot as plt\n",
    "%matplotlib inline\n",
    "\n",
    "import folium\n"
   ]
  },
  {
   "cell_type": "markdown",
   "metadata": {},
   "source": [
    "## Help functions\n",
    "In order to have folium maps appear in-line we will need two utility functions.\n"
   ]
  },
  {
   "cell_type": "code",
   "execution_count": null,
   "metadata": {
    "collapsed": false
   },
   "outputs": [],
   "source": [
    "def inline_map(map):\n",
    "    \"\"\"\n",
    "    Embeds the HTML source of the map directly into the IPython notebook.\n",
    "    \n",
    "    This method will not work if the map depends on any files (json data). Also this uses\n",
    "    the HTML5 srcdoc attribute, which may not be supported in all browsers.\n",
    "    \"\"\"\n",
    "    map._build_map()\n",
    "    return HTML('<iframe srcdoc=\"{srcdoc}\" style=\"width: 100%; height: 510px; border: none\"></iframe>'.format(srcdoc=map.HTML.replace('\"', '&quot;')))\n",
    "\n",
    "def embed_map(map, path=\"map.html\"):\n",
    "    \"\"\"\n",
    "    Embeds a linked iframe to the map into the IPython notebook.\n",
    "    \n",
    "    Note: this method will not capture the source of the map into the notebook.\n",
    "    This method should work for all maps (as long as they use relative urls).\n",
    "    \"\"\"\n",
    "    map.create_map(path=path)\n",
    "    return HTML('<iframe src=\"files/{path}\" style=\"width: 100%; height: 510px; border: none\"></iframe>'.format(path=path))"
   ]
  },
  {
   "cell_type": "markdown",
   "metadata": {},
   "source": [
    "The source for these functions is an iPython notebook by [Blake Burkhart](http://nbviewer.ipython.org/gist/bburky/7763555/folium-ipython.ipynb)."
   ]
  },
  {
   "cell_type": "markdown",
   "metadata": {},
   "source": [
    "## OpenStreet Map Tile with Folium"
   ]
  },
  {
   "cell_type": "code",
   "execution_count": null,
   "metadata": {
    "collapsed": false
   },
   "outputs": [],
   "source": [
    "map = folium.Map(location=[45.52, -122.68], zoom_start=11)\n",
    "map.simple_marker([45.52, -122.68], popup='Welcome to PySAL @<b>NARSC 2015</b>!')\n",
    "inline_map(map)"
   ]
  },
  {
   "cell_type": "markdown",
   "metadata": {},
   "source": [
    "## Base layer for south"
   ]
  },
  {
   "cell_type": "code",
   "execution_count": null,
   "metadata": {
    "collapsed": false
   },
   "outputs": [],
   "source": [
    "map_osm = folium.Map(location=[33.7550, -87.3900], zoom_start=4)\n",
    "map_osm.geo_json(geo_path = 'data/south.json')\n",
    "embed_map(map_osm)"
   ]
  },
  {
   "cell_type": "markdown",
   "metadata": {},
   "source": [
    "### Change the zoom level"
   ]
  },
  {
   "cell_type": "code",
   "execution_count": null,
   "metadata": {
    "collapsed": false
   },
   "outputs": [],
   "source": [
    "map_osm = folium.Map(location=[33.7550, -87.3900], zoom_start=5)\n",
    "map_osm.geo_json(geo_path = 'data/south.json')\n",
    "embed_map(map_osm)"
   ]
  },
  {
   "cell_type": "markdown",
   "metadata": {},
   "source": [
    "## Binding Attribute Data to the Map"
   ]
  },
  {
   "cell_type": "code",
   "execution_count": null,
   "metadata": {
    "collapsed": false
   },
   "outputs": [],
   "source": [
    "import json\n",
    "\n",
    "f = open(r'data/south.json')\n",
    "q = json.load(f)\n",
    "f.close()"
   ]
  },
  {
   "cell_type": "code",
   "execution_count": null,
   "metadata": {
    "collapsed": false
   },
   "outputs": [],
   "source": [
    "q.keys()"
   ]
  },
  {
   "cell_type": "code",
   "execution_count": null,
   "metadata": {
    "collapsed": false
   },
   "outputs": [],
   "source": [
    "features = q['features']\n",
    "len(features)"
   ]
  },
  {
   "cell_type": "code",
   "execution_count": null,
   "metadata": {
    "collapsed": false
   },
   "outputs": [],
   "source": [
    "feature_0 = features[0]"
   ]
  },
  {
   "cell_type": "code",
   "execution_count": null,
   "metadata": {
    "collapsed": false
   },
   "outputs": [],
   "source": [
    "feature_0"
   ]
  },
  {
   "cell_type": "code",
   "execution_count": null,
   "metadata": {
    "collapsed": false
   },
   "outputs": [],
   "source": [
    "import pandas as pd\n",
    "indices = []\n",
    "values = []\n",
    "for feature in features:\n",
    "    indices.append(str(feature['properties']['FIPS']))\n",
    "    values.append(feature['properties']['HR80'])"
   ]
  },
  {
   "cell_type": "code",
   "execution_count": null,
   "metadata": {
    "collapsed": false
   },
   "outputs": [],
   "source": [
    "df = pd.DataFrame({'HR80': values,\n",
    "                   'FIPS': indices} )"
   ]
  },
  {
   "cell_type": "code",
   "execution_count": null,
   "metadata": {
    "collapsed": false
   },
   "outputs": [],
   "source": [
    "map_osm = folium.Map(location=[33.7550, -87.3900], zoom_start=5,)\n",
    "map_osm.geo_json(geo_path='data/south.json',\n",
    "                 key_on='feature.properties.FIPS',\n",
    "                 data_out='data.json', data=df,\n",
    "                 columns=['FIPS','HR80'],\n",
    "                 fill_color='YlGnBu', fill_opacity=0.7,\n",
    "                 line_opacity=0.2,\n",
    "                 legend_name='Homicide Rate HR80')\n",
    "embed_map(map_osm)"
   ]
  },
  {
   "cell_type": "markdown",
   "metadata": {},
   "source": [
    "## Using PySAL Map Classification Schemes"
   ]
  },
  {
   "cell_type": "code",
   "execution_count": null,
   "metadata": {
    "collapsed": false
   },
   "outputs": [],
   "source": [
    "y = np.array(df.HR80.tolist())"
   ]
  },
  {
   "cell_type": "code",
   "execution_count": null,
   "metadata": {
    "collapsed": false
   },
   "outputs": [],
   "source": [
    "import pysal as ps"
   ]
  },
  {
   "cell_type": "code",
   "execution_count": null,
   "metadata": {
    "collapsed": false
   },
   "outputs": [],
   "source": [
    "ps.version"
   ]
  },
  {
   "cell_type": "markdown",
   "metadata": {},
   "source": [
    "### Maximum Breaks"
   ]
  },
  {
   "cell_type": "code",
   "execution_count": null,
   "metadata": {
    "collapsed": false
   },
   "outputs": [],
   "source": [
    "max_breaks = ps.Maximum_Breaks(y, 5)"
   ]
  },
  {
   "cell_type": "code",
   "execution_count": null,
   "metadata": {
    "collapsed": false
   },
   "outputs": [],
   "source": [
    "bins = max_breaks.bins.tolist()"
   ]
  },
  {
   "cell_type": "code",
   "execution_count": null,
   "metadata": {
    "collapsed": false
   },
   "outputs": [],
   "source": [
    "\n",
    "map_osm = folium.Map(location=[33.7550, -87.3900], zoom_start=5,)\n",
    "map_osm.geo_json(geo_path='data/south.json',\n",
    "                 key_on='feature.properties.FIPS',\n",
    "                 data_out='data.json', data=df,\n",
    "                 columns=['FIPS','HR80'],\n",
    "                 fill_color='YlGnBu', fill_opacity=0.7,\n",
    "                 line_opacity=0.2,\n",
    "                 threshold_scale=bins[:-1],\n",
    "                 legend_name='Homicide Rate HR80 (Maximum Breaks)')\n",
    "embed_map(map_osm)"
   ]
  },
  {
   "cell_type": "markdown",
   "metadata": {},
   "source": [
    "### Quantiles"
   ]
  },
  {
   "cell_type": "code",
   "execution_count": null,
   "metadata": {
    "collapsed": false
   },
   "outputs": [],
   "source": [
    "q5 = ps.Quantiles(y, 5).bins.tolist()"
   ]
  },
  {
   "cell_type": "code",
   "execution_count": null,
   "metadata": {
    "collapsed": false
   },
   "outputs": [],
   "source": [
    "\n",
    "map_osm = folium.Map(location=[33.7550, -87.3900], zoom_start=5,)\n",
    "map_osm.geo_json(geo_path='data/south.json',\n",
    "                 key_on='feature.properties.FIPS',\n",
    "                 data_out='data.json', data=df,\n",
    "                 columns=['FIPS','HR80'],\n",
    "                 fill_color='YlGnBu', fill_opacity=0.7,\n",
    "                 line_opacity=0.2,\n",
    "                 threshold_scale=q5[:-1],\n",
    "                 legend_name='Homicide Rate HR80 (Quintiles)')\n",
    "embed_map(map_osm)"
   ]
  },
  {
   "cell_type": "code",
   "execution_count": null,
   "metadata": {
    "collapsed": false
   },
   "outputs": [],
   "source": [
    "q6 = ps.Quantiles(y, 6).bins.tolist()\n",
    "\n",
    "map_osm = folium.Map(location=[33.7550, -87.3900], zoom_start=5,)\n",
    "map_osm.geo_json(geo_path='data/south.json',\n",
    "                 key_on='feature.properties.FIPS',\n",
    "                 data_out='data.json', data=df,\n",
    "                 columns=['FIPS','HR80'],\n",
    "                 fill_color='YlGnBu', fill_opacity=0.7,\n",
    "                 line_opacity=0.2,\n",
    "                 threshold_scale=q6[:-1],\n",
    "                 legend_name='Homicide Rate HR80 (Quantiles k=6)')\n",
    "embed_map(map_osm)"
   ]
  },
  {
   "cell_type": "markdown",
   "metadata": {},
   "source": [
    "### Fisher-Jenks"
   ]
  },
  {
   "cell_type": "code",
   "execution_count": null,
   "metadata": {
    "collapsed": false
   },
   "outputs": [],
   "source": [
    "fj= ps.Fisher_Jenks(y, 5).bins.tolist()"
   ]
  },
  {
   "cell_type": "code",
   "execution_count": null,
   "metadata": {
    "collapsed": false
   },
   "outputs": [],
   "source": [
    "\n",
    "map_osm = folium.Map(location=[33.7550, -87.3900], zoom_start=5,)\n",
    "map_osm.geo_json(geo_path='data/south.json',\n",
    "                 key_on='feature.properties.FIPS',\n",
    "                 data_out='data.json', data=df,\n",
    "                 columns=['FIPS','HR80'],\n",
    "                 fill_color='YlGnBu', fill_opacity=0.7,\n",
    "                 line_opacity=0.2,\n",
    "                 threshold_scale=fj[:-1],\n",
    "                 legend_name='Homicide Rate HR80 (Fisher Jenks)')\n",
    "embed_map(map_osm)"
   ]
  },
  {
   "cell_type": "code",
   "execution_count": null,
   "metadata": {
    "collapsed": false
   },
   "outputs": [],
   "source": [
    "ps.esda.mapclassify.Fisher_Jenks_Sampled?"
   ]
  },
  {
   "cell_type": "code",
   "execution_count": null,
   "metadata": {
    "collapsed": false
   },
   "outputs": [],
   "source": []
  }
 ],
 "metadata": {
  "kernelspec": {
   "display_name": "Python 2",
   "language": "python",
   "name": "python2"
  },
  "language_info": {
   "codemirror_mode": {
    "name": "ipython",
    "version": 2
   },
   "file_extension": ".py",
   "mimetype": "text/x-python",
   "name": "python",
   "nbconvert_exporter": "python",
   "pygments_lexer": "ipython2",
   "version": "2.7.6"
  }
 },
 "nbformat": 4,
 "nbformat_minor": 0
}
