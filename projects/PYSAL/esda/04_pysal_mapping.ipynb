{
 "cells": [
  {
   "cell_type": "code",
   "execution_count": null,
   "metadata": {
    "collapsed": false
   },
   "outputs": [],
   "source": [
    "import pysal as ps\n",
    "import numpy as np\n",
    "import pandas as pd\n",
    "\n",
    "import matplotlib.pyplot as plt\n",
    "%matplotlib inline\n",
    "\n",
    "import folium\n",
    "import random as RD\n",
    "\n",
    "\n",
    "from pysal.contrib.viz import mapping as maps\n"
   ]
  },
  {
   "cell_type": "markdown",
   "metadata": {},
   "source": [
    "# Guide for the `mapping` module in `PySAL`\n",
    "\n",
    "Contributors:\n",
    "\n",
    "* Dani Arribas-Bel `<daniel.arribas.bel@gmail.com>`\n",
    "* Serge Rey `<sjsrey@gmail.com>`\n",
    "\n",
    "\n",
    "This document describes the main structure, components and usage of the mapping module in `PySAL`. The is organized around three main layers:\n",
    "\n",
    "* A lower-level layer that reads polygon, line and point shapefiles and returns a Matplotlib collection.\n",
    "* A medium-level layer that performs some usual transformations on a Matplotlib object (e.g. color code polygons according to a vector of values).\n",
    "* A higher-level layer intended for end-users for particularly useful cases and style preferences pre-defined (e.g. Create a choropleth)."
   ]
  },
  {
   "cell_type": "markdown",
   "metadata": {},
   "source": [
    "## Lower-level component\n",
    "\n",
    "This includes basic functionality to read spatial data from a file (currently only shapefiles supported) and produce rudimentary Matplotlib objects. The main methods are:"
   ]
  },
  {
   "cell_type": "markdown",
   "metadata": {},
   "source": [
    "* `map_poly_shape`: to read in polygon shapefiles"
   ]
  },
  {
   "cell_type": "markdown",
   "metadata": {},
   "source": [
    "* `map_line_shape`: to read in line shapefiles"
   ]
  },
  {
   "cell_type": "markdown",
   "metadata": {},
   "source": [
    "* `map_point_shape`: to read in point shapefiles"
   ]
  },
  {
   "cell_type": "markdown",
   "metadata": {},
   "source": [
    "These methods all support an option to subset the observations to be plotted (very useful when missing values are present). They can also be overlaid and combined by using the `setup_ax` function. the resulting object is very basic but also very flexible so, for minds used to matplotlib this should be good news as it allows to modify pretty much any property and attribute."
   ]
  },
  {
   "cell_type": "markdown",
   "metadata": {},
   "source": [
    "### Example"
   ]
  },
  {
   "cell_type": "code",
   "execution_count": null,
   "metadata": {
    "collapsed": false
   },
   "outputs": [],
   "source": [
    "shp_link = ps.examples.get_path('columbus.shp')\n",
    "shp = ps.open(shp_link)\n",
    "some = [bool(RD.getrandbits(1)) for i in ps.open(shp_link)]\n",
    "\n",
    "fig = plt.figure()\n",
    "\n",
    "base = maps.map_poly_shp(shp)\n",
    "base.set_facecolor('none')\n",
    "base.set_linewidth(0.75)\n",
    "base.set_edgecolor('0.8')\n",
    "some = maps.map_poly_shp(shp, which=some)\n",
    "some.set_alpha(0.5)\n",
    "some.set_linewidth(0.)\n",
    "cents = np.array([poly.centroid for poly in ps.open(shp_link)])\n",
    "pts = plt.scatter(cents[:, 0], cents[:, 1])\n",
    "pts.set_color('red')\n",
    "\n",
    "ax = maps.setup_ax([base, some, pts])\n",
    "fig.add_axes(ax)\n",
    "plt.show()"
   ]
  },
  {
   "cell_type": "code",
   "execution_count": null,
   "metadata": {
    "collapsed": false
   },
   "outputs": [],
   "source": [
    "some"
   ]
  },
  {
   "cell_type": "markdown",
   "metadata": {},
   "source": [
    "## Medium-level component\n",
    "\n",
    "This layer comprises functions that perform usual transformations on matplotlib objects, such as color coding objects (points, polygons, etc.) according to a series of values. This includes the following methods:"
   ]
  },
  {
   "cell_type": "markdown",
   "metadata": {},
   "source": [
    "* `base_choropleth_classless`"
   ]
  },
  {
   "cell_type": "markdown",
   "metadata": {},
   "source": [
    "* `base_choropleth_unique`\n",
    "\n",
    "### Example"
   ]
  },
  {
   "cell_type": "code",
   "execution_count": null,
   "metadata": {
    "collapsed": false
   },
   "outputs": [],
   "source": [
    "net_link = ps.examples.get_path('eberly_net.shp')\n",
    "net = ps.open(net_link)\n",
    "values = np.array(ps.open(net_link.replace('.shp', '.dbf')).by_col('TNODE'))\n",
    "\n",
    "pts_link = ps.examples.get_path('eberly_net_pts_onnetwork.shp')\n",
    "pts = ps.open(pts_link)\n",
    "\n",
    "fig = plt.figure()\n",
    "\n",
    "netm = maps.map_line_shp(net)\n",
    "netc = maps.base_choropleth_unique(netm, values)\n",
    "\n",
    "ptsm = maps.map_point_shp(pts)\n",
    "ptsm = maps.base_choropleth_classif(ptsm, values)\n",
    "ptsm.set_alpha(0.5)\n",
    "ptsm.set_linewidth(0.)\n",
    "\n",
    "ax = maps.setup_ax([netc, ptsm])\n",
    "fig.add_axes(ax)\n",
    "plt.show()"
   ]
  },
  {
   "cell_type": "markdown",
   "metadata": {},
   "source": [
    "\n",
    "* `base_choropleth_classif`"
   ]
  },
  {
   "cell_type": "markdown",
   "metadata": {},
   "source": [
    "## Higher-level component\n",
    "\n",
    "This currently includes the following end-user functions:"
   ]
  },
  {
   "cell_type": "markdown",
   "metadata": {},
   "source": [
    "* `plot_poly_lines`: very quick shapefile plotting."
   ]
  },
  {
   "cell_type": "code",
   "execution_count": null,
   "metadata": {
    "collapsed": false
   },
   "outputs": [],
   "source": [
    "maps.plot_poly_lines(ps.examples.get_path('columbus.shp'))"
   ]
  },
  {
   "cell_type": "markdown",
   "metadata": {},
   "source": [
    "* `plot_choropleth`: for quick plotting of several types of chocopleths."
   ]
  },
  {
   "cell_type": "code",
   "execution_count": null,
   "metadata": {
    "collapsed": false
   },
   "outputs": [],
   "source": [
    "shp_link = ps.examples.get_path('columbus.shp')\n",
    "values = np.array(ps.open(ps.examples.get_path('columbus.dbf')).by_col('HOVAL'))\n",
    "\n",
    "types = ['classless', 'unique_values', 'quantiles',  'equal_interval']\n",
    "for typ in types:\n",
    "    maps.plot_choropleth(shp_link, values, typ, title=typ)"
   ]
  },
  {
   "cell_type": "markdown",
   "metadata": {},
   "source": [
    "# To-Do list\n",
    "\n",
    "General concepts and specific ideas to implement over time, with enough description so they can be brought to life.\n",
    "\n",
    "* Support for points in medium and higher layer\n",
    "* LISA cluster maps"
   ]
  },
  {
   "cell_type": "markdown",
   "metadata": {},
   "source": [
    "## Caution note on plotting points\n",
    "\n",
    "Support for points (dots) is still not quite polished. Ideally, one would like to create a `PathCollection` from scratch so it is analogue to the creation of a `PolyCollection` or `LineCollection`. However, for the time being, we are relying on the wrapper `plt.scatter`, which makes it harder to extract the collection and plug it in a different figure. For that reason, it is recommended that, for the time being, one creates the line and/or polygon map as shown in this notebook and then grabs the output axis and uses `ax.scatter` to overlay the points.\n",
    "\n",
    "**NOTE**: the `PathCollection` created by `plt.scatter` is detailed on line 3142 of [`_axes.py`](https://github.com/matplotlib/matplotlib/blob/master/lib/matplotlib/axes/_axes.py). Maybe we can take some inspiration from there to create our own `PathCollection` for points so they live at the same level as polygons."
   ]
  },
  {
   "cell_type": "code",
   "execution_count": null,
   "metadata": {
    "collapsed": true
   },
   "outputs": [],
   "source": []
  }
 ],
 "metadata": {
  "kernelspec": {
   "display_name": "Python 2",
   "language": "python",
   "name": "python2"
  },
  "language_info": {
   "codemirror_mode": {
    "name": "ipython",
    "version": 2
   },
   "file_extension": ".py",
   "mimetype": "text/x-python",
   "name": "python",
   "nbconvert_exporter": "python",
   "pygments_lexer": "ipython2",
   "version": "2.7.6"
  }
 },
 "nbformat": 4,
 "nbformat_minor": 0
}
