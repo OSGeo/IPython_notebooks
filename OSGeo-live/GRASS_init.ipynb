{
 "metadata": {
  "name": "",
  "signature": "sha256:8838ec134bf2eedd816a1beb607934eef804ad4d52d3dca0336616deedce82f6"
 },
 "nbformat": 3,
 "nbformat_minor": 0,
 "worksheets": [
  {
   "cells": [
    {
     "cell_type": "code",
     "collapsed": false,
     "input": [
      "GISDBASE='/home/user/grassdata'"
     ],
     "language": "python",
     "metadata": {},
     "outputs": []
    },
    {
     "cell_type": "code",
     "collapsed": false,
     "input": [
      "!g.gisenv set=\"GISDBASE={GISDBASE}\""
     ],
     "language": "python",
     "metadata": {},
     "outputs": []
    },
    {
     "cell_type": "code",
     "collapsed": false,
     "input": [
      "!g.proj -p"
     ],
     "language": "python",
     "metadata": {},
     "outputs": []
    },
    {
     "cell_type": "markdown",
     "metadata": {},
     "source": [
      "Import GRASS script library"
     ]
    },
    {
     "cell_type": "code",
     "collapsed": false,
     "input": [
      "import grass.script as grass"
     ],
     "language": "python",
     "metadata": {},
     "outputs": []
    },
    {
     "cell_type": "markdown",
     "metadata": {},
     "source": [
      "Run the command [g.proj](/usr/share/doc/grass-doc/html/g.proj.html) to generate a new loaction **UTM 19 N 'WGS 84'**\n",
      "using the [EPSG code: 32619 ](http://www.spatialreference.org/ref/epsg/32619/)"
     ]
    },
    {
     "cell_type": "code",
     "collapsed": false,
     "input": [
      "grass.run_command('g.proj', epsg='32619', location='utm19N_wgs84')"
     ],
     "language": "python",
     "metadata": {},
     "outputs": []
    },
    {
     "cell_type": "markdown",
     "metadata": {},
     "source": [
      "Run a grass command using GRASS syntax directly (no python bindings, system commands can be run adding the \"!\" prefix)"
     ]
    },
    {
     "cell_type": "code",
     "collapsed": false,
     "input": [
      "!g.mapset location=utm19N_wgs84 mapset=PERMANENT"
     ],
     "language": "python",
     "metadata": {},
     "outputs": []
    },
    {
     "cell_type": "code",
     "collapsed": false,
     "input": [
      "!g.proj -p"
     ],
     "language": "python",
     "metadata": {},
     "outputs": []
    },
    {
     "cell_type": "markdown",
     "metadata": {},
     "source": [
      "[EPSG code: 4326 ](http://spatialreference.org/ref/epsg/wgs-84/)"
     ]
    },
    {
     "cell_type": "code",
     "collapsed": false,
     "input": [
      "grass.run_command('g.proj', epsg='4326', location='lonlat')"
     ],
     "language": "python",
     "metadata": {},
     "outputs": []
    },
    {
     "cell_type": "code",
     "collapsed": false,
     "input": [
      "!g.mapset location=lonlat mapset=PERMANENT"
     ],
     "language": "python",
     "metadata": {},
     "outputs": []
    },
    {
     "cell_type": "code",
     "collapsed": false,
     "input": [
      "!g.proj -p"
     ],
     "language": "python",
     "metadata": {},
     "outputs": []
    },
    {
     "cell_type": "markdown",
     "metadata": {},
     "source": [
      "Specify the projection parameters using the proj-4 string syntax:\n",
      "\n",
      "```\n",
      "    proj=lcc \n",
      "    +lat_1=36.1667 \n",
      "    +lat_2=43.8333 \n",
      "    +lat_0=40 \n",
      "    +lon_0=-70 \n",
      "    +x_0=0 \n",
      "    +y_0=0 \n",
      "    +no_defs \n",
      "    +a=6378206.4 \n",
      "    +rf=294.9786982 \n",
      "    +to_meter=1\n",
      "```\n"
     ]
    },
    {
     "cell_type": "code",
     "collapsed": false,
     "input": [
      "proj4 = '+proj=lcc +lat_1=36.1667 +lat_2=43.8333 +lat_0=40 +lon_0=-70 +x_0=0 +y_0=0 +no_defs +a=6378206.4 +rf=294.9786982 +to_meter=1'\n",
      "grass.run_command('g.proj', proj4=proj4, location='modis')"
     ],
     "language": "python",
     "metadata": {},
     "outputs": []
    },
    {
     "cell_type": "code",
     "collapsed": false,
     "input": [
      "!g.mapset location=modis mapset=PERMANENT"
     ],
     "language": "python",
     "metadata": {},
     "outputs": []
    },
    {
     "cell_type": "code",
     "collapsed": false,
     "input": [
      "!g.proj -p"
     ],
     "language": "python",
     "metadata": {},
     "outputs": []
    }
   ],
   "metadata": {}
  }
 ]
}