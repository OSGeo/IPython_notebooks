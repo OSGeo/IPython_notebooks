{
 "metadata": {
  "name": "",
  "signature": "sha256:8f3f6f742efb0cfe8b987953d638595fa5b62660fa5500b149ab737ac76718f4"
 },
 "nbformat": 3,
 "nbformat_minor": 0,
 "worksheets": [
  {
   "cells": [
    {
     "cell_type": "code",
     "collapsed": false,
     "input": [
      "import numpy as np\n",
      "import matplotlib.pyplot as plt\n",
      "\n",
      "from osgeo import gdal\n",
      "from osgeo import gdal_array\n",
      "\n",
      "import rasterio\n",
      "import cartopy.crs as ccrs\n",
      "\n",
      "## DEM plot via rasterio, pyplot imshow\n",
      "##  Live 8.5  *  darkblue-b\n",
      "##"
     ],
     "language": "python",
     "metadata": {},
     "outputs": []
    },
    {
     "cell_type": "markdown",
     "metadata": {},
     "source": [
      "=="
     ]
    },
    {
     "cell_type": "code",
     "collapsed": false,
     "input": [
      "with rasterio.open('SanMateo_CA.tif') as src:\n",
      "    data = src.read()\n",
      "    data = np.transpose( data, [1,2,0])\n",
      "\n",
      "# type(data)  numpy.ma.core.MaskedArray\n",
      "# data.ndim   3\n",
      "# data.shape  (1080, 864, 1)\n",
      "# data.dtype  dtype('float32')"
     ],
     "language": "python",
     "metadata": {},
     "outputs": []
    },
    {
     "cell_type": "code",
     "collapsed": false,
     "input": [
      "xmin = src.transform[0]\n",
      "xmax = src.transform[0] + src.transform[1]*src.width\n",
      "ymin = src.transform[3] + src.transform[5]*src.height\n",
      "ymax = src.transform[3]\n",
      "\n",
      "##   Mercator etc..\n",
      "crs = ccrs.PlateCarree()\n",
      "\n",
      "ax = plt.axes(projection=crs)\n",
      "plt.imshow(data[:,:,0], origin='upper', extent=[xmin, xmax, ymin, ymax], transform=crs, interpolation='nearest')"
     ],
     "language": "python",
     "metadata": {},
     "outputs": []
    },
    {
     "cell_type": "code",
     "collapsed": false,
     "input": [
      "data[0:2,0:2,0]"
     ],
     "language": "python",
     "metadata": {},
     "outputs": []
    },
    {
     "cell_type": "code",
     "collapsed": false,
     "input": [
      "src.meta"
     ],
     "language": "python",
     "metadata": {},
     "outputs": []
    },
    {
     "cell_type": "markdown",
     "metadata": {},
     "source": [
      "=="
     ]
    },
    {
     "cell_type": "code",
     "collapsed": false,
     "input": [
      "plt.figure(figsize=(15, 10))\n",
      "ax = plt.subplot(111, projection=ccrs.PlateCarree())\n",
      "\n",
      "#elev, crs, extent = srtm_composite(12, 47, 1, 1)\n",
      "plt.imshow( data[:,:,0], transform=ccrs.PlateCarree(),\n",
      "           cmap='gist_earth')\n",
      "cb = plt.colorbar(orientation='vertical')\n",
      "cb.set_label('Altitude')\n",
      "plt.title(\"DEM\")\n",
     ],
     "language": "python",
     "metadata": {},
     "outputs": []
    },
    {
     "cell_type": "code",
     "collapsed": false,
     "input": [
      "%whos"
     ],
     "language": "python",
     "metadata": {},
     "outputs": []
    },
    {
     "cell_type": "code",
     "collapsed": false,
     "input": [],
     "language": "python",
     "metadata": {},
     "outputs": []
    }
   ],
   "metadata": {}
  }
 ]
}
