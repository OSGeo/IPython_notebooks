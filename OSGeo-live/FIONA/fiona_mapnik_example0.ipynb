{
 "metadata": {
  "name": "",
  "signature": "sha256:a7c86d8dbe677ae8642fc72c35542a78c73c067bb51a2b3ab4f3fadb738d5164"
 },
 "nbformat": 3,
 "nbformat_minor": 0,
 "worksheets": [
  {
   "cells": [
    {
     "cell_type": "code",
     "collapsed": false,
     "input": [
      "%matplotlib inline\n",
      "import os\n",
      "\n",
      "from IPython.core.display import Image\n",
      "import numpy as np\n",
      "import matplotlib.pyplot as plt\n",
      "\n",
      "import fiona\n",
      "import mapnik\n",
      "import shapely.geometry\n",
      "\n",
      "\n",
      "## Fiona, mapnik demo\n",
      "##  Live 8.5  *  darkblue-b\n",
      "##\n",
      "##   based on UoLPythonGroup/data-hack-0"
     ],
     "language": "python",
     "metadata": {},
     "outputs": [],
     "prompt_number": 1
    },
    {
     "cell_type": "code",
     "collapsed": false,
     "input": [
      "BASE_FOLDER = '/home/user/data/north_carolina/shape'"
     ],
     "language": "python",
     "metadata": {},
     "outputs": [],
     "prompt_number": 2
    },
    {
     "cell_type": "code",
     "collapsed": false,
     "input": [
      "c_shapefile = os.path.join(BASE_FOLDER, 'nc_state.shp')\n",
      "f = fiona.open(c_shapefile)\n",
      "shps = list(f)\n",
      "print 'f: ',type(f)\n",
      "print f.schema"
     ],
     "language": "python",
     "metadata": {},
     "outputs": [
      {
       "output_type": "stream",
       "stream": "stdout",
       "text": [
        "f:  <class 'fiona.collection.Collection'>\n",
        "{'geometry': '3D Polygon', 'properties': OrderedDict([(u'cat', 'float:11'), (u'STATE', 'str:80'), (u'COUNTRY', 'str:80')])}\n"
       ]
      }
     ],
     "prompt_number": 4
    },
    {
     "cell_type": "code",
     "collapsed": false,
     "input": [
      "type(f[2])"
     ],
     "language": "python",
     "metadata": {},
     "outputs": [
      {
       "metadata": {},
       "output_type": "pyout",
       "prompt_number": 5,
       "text": [
        "dict"
       ]
      }
     ],
     "prompt_number": 5
    },
    {
     "cell_type": "code",
     "collapsed": false,
     "input": [
      "## Use the Shapely geometry classes\n",
      "##  instantiate a Polygon from the Fiona collection "
     ],
     "language": "python",
     "metadata": {},
     "outputs": []
    },
    {
     "cell_type": "code",
     "collapsed": false,
     "input": [
      "import shapely.geometry\n",
      "\n",
      "geo = shapely.geometry.shape(f[0]['geometry'])\n",
      "geo"
     ],
     "language": "python",
     "metadata": {},
     "outputs": [
      {
       "metadata": {},
       "output_type": "pyout",
       "prompt_number": 6,
       "text": [
        "<shapely.geometry.polygon.Polygon at 0xab7fcfcc>"
       ]
      }
     ],
     "prompt_number": 6
    },
    {
     "cell_type": "code",
     "collapsed": false,
     "input": [
      "## plt.plot(*geo.xy)  ## hmm not implemented"
     ],
     "language": "python",
     "metadata": {},
     "outputs": []
    },
    {
     "cell_type": "code",
     "collapsed": false,
     "input": [
      "## Mapnik\n",
      "##  load the Mapnik python interfaces\n",
      "##  read the shapefile directly with Mapnik libs\n",
      "##  use the IPython Image interface as the drawing target"
     ],
     "language": "python",
     "metadata": {},
     "outputs": []
    },
    {
     "cell_type": "code",
     "collapsed": false,
     "input": [
      "def show_mapnik(m):\n",
      "    \"\"\"Returns an IPython Image of the rendered map.\"\"\"\n",
      "    im = mapnik.Image(m.width, m.height)\n",
      "    mapnik.render(m, im)\n",
      "    return Image(data=im.tostring('png32'))\n"
     ],
     "language": "python",
     "metadata": {},
     "outputs": [],
     "prompt_number": 7
    },
    {
     "cell_type": "code",
     "collapsed": false,
     "input": [
      "import mapnik\n",
      "\n",
      "m = mapnik.Map(600, 600)\n",
      "\n",
      "layer = mapnik.Layer('contour')\n",
      "layer.datasource = mapnik.Shapefile(file=c_shapefile)\n",
      "\n",
      "style = mapnik.Style()\n",
      "rule = mapnik.Rule()\n",
      "\n",
      "line_symbolizer = mapnik.LineSymbolizer(mapnik.Color('green'),0.4)\n",
      "rule.symbols.append(line_symbolizer)\n",
      "\n",
      "m.layers.append(layer)\n",
      "style.rules.append(rule)\n",
      "m.append_style('My Style', style)\n",
      "layer.styles.append('My Style')\n",
      "\n",
      "m.layers.append(layer)\n",
      "m.zoom_all()\n",
      "show_mapnik(m)\n"
     ],
     "language": "python",
     "metadata": {},
     "outputs": [
      {
       "metadata": {},
       "output_type": "pyout",
       "png": "[encoded data removed]",
       "prompt_number": 8,
       "text": [
        "<IPython.core.display.Image at 0xab808d0c>"
       ]
      }
     ],
     "prompt_number": 8
    },
    {
     "cell_type": "code",
     "collapsed": false,
     "input": [],
     "language": "python",
     "metadata": {},
     "outputs": []
    }
   ],
   "metadata": {}
  }
 ]
}