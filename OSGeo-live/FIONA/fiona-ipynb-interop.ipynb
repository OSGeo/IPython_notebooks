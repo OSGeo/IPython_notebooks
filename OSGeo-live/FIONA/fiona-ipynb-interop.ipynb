{
 "metadata": {
  "name": "",
  "signature": "sha256:6911854df4572261541f8788937e7a21f2c08867dc06f5d25cfaa81e20bab5d1"
 },
 "nbformat": 3,
 "nbformat_minor": 0,
 "worksheets": [
  {
   "cells": [
    {
     "cell_type": "code",
     "collapsed": false,
     "input": [
      "import numpy as np\n",
      "import matplotlib.pyplot as plt\n",
      "import fiona\n",
      "\n",
      "from matplotlib.patches import Polygon\n",
      "from shapely.geometry import shape, box\n",
      "from shapely.ops import cascaded_union\n",
      "\n",
      "\n",
      "## Fiona, IPython Notebook interaction\n",
      "##  Live 8.5  *  darkblue-b\n",
      "##\n",
      "## "
     ],
     "language": "python",
     "metadata": {},
     "outputs": [],
     "prompt_number": 1
    },
    {
     "cell_type": "markdown",
     "metadata": {},
     "source": [
      "Terminal Commands\n",
      "----------------------\n",
      "``Shell script can be executed with results stored into python variables``\n"
     ]
    },
    {
     "cell_type": "code",
     "collapsed": false,
     "input": [
      "shps = !ls /home/user/data/north_carolina/shape/*shp"
     ],
     "language": "python",
     "metadata": {},
     "outputs": [],
     "prompt_number": 2
    },
    {
     "cell_type": "markdown",
     "metadata": {},
     "source": [
      "Task: quickly examine the bounding areas of a directory of shapefiles\n",
      "------------------------------------------------------------------\n",
      "* use ``fiona.open()`` to read data files on disk\n",
      "* save the filename and bounding box into a python ``dict``\n",
      "\n",
      ".\n"
     ]
    },
    {
     "cell_type": "code",
     "collapsed": false,
     "input": [
      "td = {}\n",
      "\n",
      "for shp in shps:\n",
      "    with fiona.open( shp, 'r') as inp:\n",
      "        td[ inp.name ] = inp.bounds\n",
      "\n",
      "## Fiona inp.bounds => ( lower_lng, lower_lat, upper_lng, upper_lat)\n"
     ],
     "language": "python",
     "metadata": {},
     "outputs": [],
     "prompt_number": 3
    },
    {
     "cell_type": "code",
     "collapsed": false,
     "input": [
      "## Create shapely geometry from the coords\n",
      "## shapely/geometry/geo.py\n",
      "##   box(minx, miny, maxx, maxy, ccw=True)\n",
      "\n",
      "nboxes = []\n",
      "for k,v in iter(td.iteritems()):\n",
      "    nboxes.append( box( v[0], v[1], v[2], v[3]) )\n",
      "\n",
      "print 'Found BBOXs: ',len(nboxes)"
     ],
     "language": "python",
     "metadata": {},
     "outputs": [
      {
       "output_type": "stream",
       "stream": "stdout",
       "text": [
        "Found BBOXs:  44\n"
       ]
      }
     ],
     "prompt_number": 4
    },
    {
     "cell_type": "code",
     "collapsed": false,
     "input": [
      "## create a single cascaded UNION too\n",
      "dst_poly = cascaded_union(nboxes)\n",
      "dst_poly.bounds"
     ],
     "language": "python",
     "metadata": {},
     "outputs": [
      {
       "metadata": {},
       "output_type": "pyout",
       "prompt_number": 5,
       "text": [
        "(121862.14889275003, -15865.3468644768, 962679.9593500504, 407620.5610747712)"
       ]
      }
     ],
     "prompt_number": 5
    },
    {
     "cell_type": "code",
     "collapsed": false,
     "input": [
      "## Draw every BBOX for all files, transparently\n",
      "## use matplotlib.Polygon to draw; let autoscale calculate the area\n",
      "\n",
      "fig, ax = plt.subplots(figsize=(12,12))\n",
      "for polygon in nboxes:\n",
      "    mpl_poly = Polygon(np.array(polygon.exterior), facecolor=\"y\", alpha=0.02)\n",
      "    ax.add_patch(mpl_poly)\n",
      "\n",
      "## Indicate the exterior of the study area with a heavy line\n",
      "ax.add_patch( Polygon(np.array(dst_poly.exterior), fill=False, lw=4, ec=\"b\", alpha=0.9) )\n",
      "\n",
      "ax.relim()\n",
      "ax.autoscale()"
     ],
     "language": "python",
     "metadata": {},
     "outputs": [
      {
       "metadata": {},
       "output_type": "display_data",
       "png": "[encoded data removed]",
       "text": [
        "<matplotlib.figure.Figure at 0xae4e684c>"
       ]
      }
     ],
     "prompt_number": 6
    },
    {
     "cell_type": "code",
     "collapsed": false,
     "input": [],
     "language": "python",
     "metadata": {},
     "outputs": []
    }
   ],
   "metadata": {}
  }
 ]
}