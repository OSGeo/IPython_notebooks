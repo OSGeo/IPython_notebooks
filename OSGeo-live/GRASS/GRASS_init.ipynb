{
 "metadata": {
  "name": "",
  "signature": "sha256:f39870cb4ed64328e0c0460a11bbd95266a2478cc4bcd7fbf1d578c2a6086095"
 },
 "nbformat": 3,
 "nbformat_minor": 0,
 "worksheets": [
  {
   "cells": [
    {
     "cell_type": "markdown",
     "metadata": {},
     "source": [
      "It is possible to run system commands simply adding the \"!\" prefix, so to be able to run grass command using GRASS syntax directly without using python bindings. \n",
      "(note: the command output can be saved in a python object, see grassutil.ipy (in the current directory) for some examples on how to parse grass commands  output)"
     ]
    },
    {
     "cell_type": "markdown",
     "metadata": {},
     "source": [
      "SET the GRASS database directory (GISDBASE environment var)"
     ]
    },
    {
     "cell_type": "code",
     "collapsed": false,
     "input": [
      "GISDBASE='/home/user/grassdata'"
     ],
     "language": "python",
     "metadata": {},
     "outputs": []
    },
    {
     "cell_type": "code",
     "collapsed": false,
     "input": [
      "!g.gisenv set=\"GISDBASE={GISDBASE}\""
     ],
     "language": "python",
     "metadata": {},
     "outputs": []
    },
    {
     "cell_type": "markdown",
     "metadata": {},
     "source": [
      "Sample use of the [g.proj](/usr/share/doc/grass-doc/html/g.proj.html) command"
     ]
    },
    {
     "cell_type": "markdown",
     "metadata": {},
     "source": [
      "Print projection information for the active GRASS LOCATION \"-p flag\" "
     ]
    },
    {
     "cell_type": "code",
     "collapsed": false,
     "input": [
      "!g.proj -p"
     ],
     "language": "python",
     "metadata": {},
     "outputs": []
    },
    {
     "cell_type": "markdown",
     "metadata": {},
     "source": [
      "Run a grass command using GRASS python bindings,  import GRASS script library"
     ]
    },
    {
     "cell_type": "code",
     "collapsed": false,
     "input": [
      "import grass.script as grass"
     ],
     "language": "python",
     "metadata": {},
     "outputs": []
    },
    {
     "cell_type": "markdown",
     "metadata": {},
     "source": [
      "Run the command [g.proj](/usr/share/doc/grass-doc/html/g.proj.html) to generate a new loaction **LON-LAT 'WGS 84'**\n",
      "using the [EPSG code: 4326 ](http://www.spatialreference.org/ref/epsg/4326/)"
     ]
    },
    {
     "cell_type": "code",
     "collapsed": false,
     "input": [
      "grass.run_command('g.proj', epsg='4326', location='lonlat')"
     ],
     "language": "python",
     "metadata": {},
     "outputs": []
    },
    {
     "cell_type": "code",
     "collapsed": false,
     "input": [
      "!g.mapset location=lonlat mapset=PERMANENT"
     ],
     "language": "python",
     "metadata": {},
     "outputs": []
    },
    {
     "cell_type": "code",
     "collapsed": false,
     "input": [
      "!g.proj -p"
     ],
     "language": "python",
     "metadata": {},
     "outputs": []
    }
   ],
   "metadata": {}
  }
 ]
}