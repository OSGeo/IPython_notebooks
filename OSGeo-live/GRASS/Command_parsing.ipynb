{
 "metadata": {
  "name": "",
  "signature": "sha256:18929ba8157fe369e05e61dd26cc69b7f428a156c2506cb926ea3752353e8901"
 },
 "nbformat": 3,
 "nbformat_minor": 0,
 "worksheets": [
  {
   "cells": [
    {
     "cell_type": "markdown",
     "metadata": {},
     "source": [
      "Well use an utility script with few lines of code to parse the output of GRASS commands and make new functions that use the parsed output (the script use ipython specific syntax like **```!system-command```** so the code is saved in a file with **```.ipy```** extension and is imported using the magic funxtion **```%run file.ipy```**, the source code available in grassutil.ipy in the current directory)"
     ]
    },
    {
     "cell_type": "code",
     "collapsed": false,
     "input": [
      "%run grassutil.ipy"
     ],
     "language": "python",
     "metadata": {},
     "outputs": []
    },
    {
     "cell_type": "markdown",
     "metadata": {},
     "source": [
      "Use of the <a url=\"file:///usr/share/doc/grass-doc/html/g.mapset.html\">g.mapset</a> command\n",
      "* Set the GRASS WORKSPACE to : \n",
      "    - LOCATION  : spearfish \n",
      "    - MAPSET : user1"
     ]
    },
    {
     "cell_type": "code",
     "collapsed": false,
     "input": [
      "!g.mapset location=spearfish60 mapset=user1"
     ],
     "language": "python",
     "metadata": {},
     "outputs": []
    },
    {
     "cell_type": "markdown",
     "metadata": {},
     "source": [
      "* print projection info with [g.proj](/usr/share/doc/grass-doc/html/g.proj.html) "
     ]
    },
    {
     "cell_type": "code",
     "collapsed": false,
     "input": [
      "!g.proj -p"
     ],
     "language": "python",
     "metadata": {},
     "outputs": []
    },
    {
     "cell_type": "markdown",
     "metadata": {},
     "source": [
      "* list vector and raster layers with [g.list](/usr/share/doc/grass-doc/html/g.list.html) "
     ]
    },
    {
     "cell_type": "code",
     "collapsed": false,
     "input": [
      "!g.list rast"
     ],
     "language": "python",
     "metadata": {},
     "outputs": []
    },
    {
     "cell_type": "markdown",
     "metadata": {},
     "source": [
      "* use the getLayerList function to store the g.list output in a python list"
     ]
    },
    {
     "cell_type": "code",
     "collapsed": false,
     "input": [
      "rasterlist = getLayerList(type='rast')\n",
      "vectorlist = getLayerList(type='vect')"
     ],
     "language": "python",
     "metadata": {},
     "outputs": []
    },
    {
     "cell_type": "code",
     "collapsed": false,
     "input": [
      "rasterlist"
     ],
     "language": "python",
     "metadata": {},
     "outputs": []
    },
    {
     "cell_type": "markdown",
     "metadata": {},
     "source": [
      "* print info for a raster layer with [r.info](/usr/share/doc/grass-doc/html/r.info.html) "
     ]
    },
    {
     "cell_type": "code",
     "collapsed": false,
     "input": [
      "!r.info elevation.10m@PERMANENT"
     ],
     "language": "python",
     "metadata": {},
     "outputs": []
    },
    {
     "cell_type": "markdown",
     "metadata": {},
     "source": [
      "* use the  'r/v'layerInfo function to store the [r.info](/usr/share/doc/grass-doc/html/r.info.html) / [v.info](/usr/share/doc/grass-doc/html/v.info.html)  output in a python dictionary"
     ]
    },
    {
     "cell_type": "code",
     "collapsed": false,
     "input": [
      "rasterlayerinfo = rlayerInfo(map='elevation.10m')\n",
      "vectorlayerinfo = vlayerInfo(map='vegcover')"
     ],
     "language": "python",
     "metadata": {},
     "outputs": []
    },
    {
     "cell_type": "code",
     "collapsed": false,
     "input": [
      "rasterlayerinfo.keys()"
     ],
     "language": "python",
     "metadata": {},
     "outputs": []
    },
    {
     "cell_type": "code",
     "collapsed": false,
     "input": [
      "rasterlayerinfo"
     ],
     "language": "python",
     "metadata": {},
     "outputs": []
    },
    {
     "cell_type": "markdown",
     "metadata": {},
     "source": [
      "* use of the makeImage function to display raster and/or vector maps \n",
      "(a wrapper around [display commands](/usr/share/doc/grass-doc/html/display.html) in GRASS using the CAIRO DRIVER) "
     ]
    },
    {
     "cell_type": "code",
     "collapsed": false,
     "input": [
      "makeImage(mapname={'raster': ['elevation.10m'], 'vector':['bugsites']}, maptype='overlay', \n",
      "          vsize=10, maptitle='\"Bugsites\"', region=rlayerInfo('elevation.10m')['region'], gridsize=4000)"
     ],
     "language": "python",
     "metadata": {},
     "outputs": []
    },
    {
     "cell_type": "code",
     "collapsed": false,
     "input": [
      "from IPython.core.display import Image"
     ],
     "language": "python",
     "metadata": {},
     "outputs": []
    },
    {
     "cell_type": "markdown",
     "metadata": {},
     "source": [
      "Example using [m.nviz.image](/usr/share/doc/grass-doc/html/m.nviz.image.html) m.nviz.image to generate 3D perspective plots"
     ]
    },
    {
     "cell_type": "code",
     "collapsed": false,
     "input": [
      "!m.nviz.image elevation_map=elevation.10m vpoint=bugsites \\\n",
      "              vpoint_size=130 output=elevation position=0.5,0.5 \\\n",
      "              perspective=100 height=9000 color_map=elevation.10m \\\n",
      "              resolution_fine=1 resolution_coarse=1 format=tif --q\n",
      "!convert elevation.tif elevation.png\n",
      "Image('elevation.png')"
     ],
     "language": "python",
     "metadata": {},
     "outputs": []
    },
    {
     "cell_type": "markdown",
     "metadata": {},
     "source": [
      "Example on how to repoject raster and vector data between 2 different GRASS LOCATION:\n",
      "* set the GRASS environment to the previously generated lonlat LOCATION (see GRASS_init.ipynb) \n",
      "* reproject GRASS layers : \n",
      "    - raster : elevation\n",
      "    - vector : bugsites "
     ]
    },
    {
     "cell_type": "code",
     "collapsed": false,
     "input": [
      "!g.mapset location=lonlat mapset=PERMANENT"
     ],
     "language": "python",
     "metadata": {},
     "outputs": []
    },
    {
     "cell_type": "code",
     "collapsed": false,
     "input": [
      "region = !r.proj input=elevation.10m location=spearfish60 -g"
     ],
     "language": "python",
     "metadata": {},
     "outputs": []
    },
    {
     "cell_type": "code",
     "collapsed": false,
     "input": [
      "newregion = dict([(i.split('=')[0],i.split('=')[1]) for i in region[-1].split()])"
     ],
     "language": "python",
     "metadata": {},
     "outputs": []
    },
    {
     "cell_type": "code",
     "collapsed": false,
     "input": [
      "!g.region -p n={newregion['n']}  s={newregion['s']}  e={newregion['e']}  w={newregion['w']} res=0.0001"
     ],
     "language": "python",
     "metadata": {},
     "outputs": []
    },
    {
     "cell_type": "code",
     "collapsed": false,
     "input": [
      "!r.proj input=elevation.10m location=spearfish60 output=elevation method=cubic --o --q"
     ],
     "language": "python",
     "metadata": {},
     "outputs": []
    },
    {
     "cell_type": "code",
     "collapsed": false,
     "input": [
      "!v.proj input=bugsites location=spearfish60 output=bugsites --o --q"
     ],
     "language": "python",
     "metadata": {},
     "outputs": []
    },
    {
     "cell_type": "code",
     "collapsed": false,
     "input": [
      "makeImage(mapname={'raster': ['elevation'], 'vector':['bugsites']}, maptype='overlay', \n",
      "          vsize=10, maptitle='\"Bugsites\"', region=rlayerInfo('elevation')['region'], gridsize=0.02)"
     ],
     "language": "python",
     "metadata": {},
     "outputs": []
    }
   ],
   "metadata": {}
  }
 ]
}