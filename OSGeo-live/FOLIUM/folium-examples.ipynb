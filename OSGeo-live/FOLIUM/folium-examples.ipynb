{
 "cells": [
  {
   "cell_type": "code",
   "execution_count": null,
   "metadata": {
    "collapsed": false
   },
   "outputs": [],
   "source": [
    "import folium\n",
    "import pandas as pd\n",
    "\n",
    "#folium.initialize_notebook()"
   ]
  },
  {
   "cell_type": "code",
   "execution_count": null,
   "metadata": {
    "collapsed": false
   },
   "outputs": [],
   "source": [
    "#Standard OSM\n",
    "map_osm = folium.Map(location=[45.5236, -122.6750])\n",
    "map_osm"
   ]
  },
  {
   "cell_type": "code",
   "execution_count": null,
   "metadata": {
    "collapsed": false
   },
   "outputs": [],
   "source": [
    "stamen = folium.Map(location=[45.5236, -122.6750], tiles='Stamen Toner',\n",
    "                    zoom_start=13)\n",
    "stamen"
   ]
  },
  {
   "cell_type": "code",
   "execution_count": null,
   "metadata": {
    "collapsed": false
   },
   "outputs": [],
   "source": [
    "mt_hood = folium.Map(location=[45.372, -121.6972], zoom_start=12,\n",
    "                     tiles='Stamen Terrain')\n",
    "mt_hood.simple_marker([45.3288, -121.6625], popup='Mt. Hood Meadows')\n",
    "mt_hood.simple_marker([45.3311, -121.7113], popup='Timberline Lodge')\n",
    "mt_hood"
   ]
  },
  {
   "cell_type": "code",
   "execution_count": null,
   "metadata": {
    "collapsed": false
   },
   "outputs": [],
   "source": [
    "portland = folium.Map(location=[45.5236, -122.6750], tiles='Stamen Toner',\n",
    "                      zoom_start=13)\n",
    "portland.simple_marker(location=[45.5244, -122.6699], popup='The Waterfront')\n",
    "portland.circle_marker(location=[45.5215, -122.6261], radius=500,\n",
    "                       popup='Laurelhurst Park', line_color='#3186cc',\n",
    "                       fill_color='#3186cc')\n",
    "portland"
   ]
  },
  {
   "cell_type": "code",
   "execution_count": null,
   "metadata": {
    "collapsed": false
   },
   "outputs": [],
   "source": [
    "latlng = folium.Map(location=[46.1991, -122.1889], tiles='Stamen Terrain',\n",
    "                    zoom_start=13)\n",
    "latlng.lat_lng_popover()\n",
    "latlng"
   ]
  },
  {
   "cell_type": "code",
   "execution_count": null,
   "metadata": {
    "collapsed": false
   },
   "outputs": [],
   "source": [
    "waypoints = folium.Map(location=[46.8527, -121.7649], tiles='Stamen Terrain',\n",
    "                       zoom_start=13)\n",
    "waypoints.simple_marker(location=[46.8354, -121.7325], popup='Camp Muir')\n",
    "waypoints.click_for_marker(popup='Waypoint')\n",
    "waypoints"
   ]
  },
  {
   "cell_type": "code",
   "execution_count": null,
   "metadata": {
    "collapsed": false
   },
   "outputs": [],
   "source": [
    "polygons = folium.Map(location=[45.5236, -122.6750], zoom_start=13)\n",
    "polygons.polygon_marker(location=[45.5012, -122.6655], popup='Ross Island Bridge',\n",
    "                        fill_color='#132b5e', num_sides=3, radius=10)\n",
    "polygons.polygon_marker(location=[45.5132, -122.6708], popup='Hawthorne Bridge',\n",
    "                        fill_color='#45647d', num_sides=4, radius=10)\n",
    "polygons.polygon_marker(location=[45.5275, -122.6692], popup='Steel Bridge',\n",
    "                        fill_color='#769d96', num_sides=6, radius=10)\n",
    "polygons.polygon_marker(location=[45.5318, -122.6745], popup='Broadway Bridge',\n",
    "                        fill_color='#769d96', num_sides=8, radius=10)\n",
    "polygons"
   ]
  },
  {
   "cell_type": "code",
   "execution_count": null,
   "metadata": {
    "collapsed": false,
    "scrolled": true
   },
   "outputs": [],
   "source": [
    "state_geo = r'us-states.json'\n",
    "state_unemployment = r'US_Unemployment_Oct2012.csv'\n",
    "\n",
    "state_data = pd.read_csv(state_unemployment)\n",
    "\n",
    "#Let Folium determine the scale\n",
    "states = folium.Map(location=[48, -102], zoom_start=3)\n",
    "states.geo_json(geo_path=state_geo, data=state_data,\n",
    "                columns=['State', 'Unemployment'],\n",
    "                key_on='feature.id',\n",
    "                fill_color='YlGn', fill_opacity=0.7, line_opacity=0.2,\n",
    "                legend_name='Unemployment Rate (%)')\n",
    "states.create_map(path='us_state_map.html')\n",
    "states"
   ]
  },
  {
   "cell_type": "code",
   "execution_count": null,
   "metadata": {
    "collapsed": false
   },
   "outputs": [],
   "source": [
    "states2 = folium.Map(location=[48, -102], zoom_start=3)\n",
    "states2.geo_json(geo_path=state_geo, data=state_data,\n",
    "                 columns=['State', 'Unemployment'],\n",
    "                 threshold_scale=[5, 6, 7, 8, 9, 10],\n",
    "                 key_on='feature.id',\n",
    "                 fill_color='BuPu', fill_opacity=0.7, line_opacity=0.5,\n",
    "                 legend_name='Unemployment Rate (%)',\n",
    "                 reset=True)\n",
    "states2.create_map(path='us_state_map_2.html')\n",
    "states2"
   ]
  },
  {
   "cell_type": "code",
   "execution_count": null,
   "metadata": {
    "collapsed": false
   },
   "outputs": [],
   "source": [
    "county_data = r'us_county_data.csv'\n",
    "county_geo = r'us_counties_20m_topo.json'\n",
    "\n",
    "#Read into Dataframe, cast to string for consistency\n",
    "df = pd.read_csv(county_data, na_values=[' '])\n",
    "df['FIPS_Code'] = df['FIPS_Code'].astype(str)\n",
    "\n",
    "\n",
    "def set_id(fips):\n",
    "    '''Modify FIPS code to match GeoJSON property'''\n",
    "    if fips == '0':\n",
    "        return None\n",
    "    elif len(fips) <= 4:\n",
    "        return ''.join(['0500000US0', fips])\n",
    "    else:\n",
    "        return ''.join(['0500000US', fips])\n",
    "\n",
    "#Apply set_id, drop NaN\n",
    "df['GEO_ID'] = df['FIPS_Code'].apply(set_id)\n",
    "df = df.dropna()\n",
    "\n",
    "#Number of employed with auto scale\n",
    "map_1 = folium.Map(location=[48, -102], zoom_start=3)\n",
    "map_1.geo_json(geo_path=county_geo, data_out='data1.json', data=df,\n",
    "               columns=['GEO_ID', 'Employed_2011'],\n",
    "               key_on='feature.id',\n",
    "               fill_color='YlOrRd', fill_opacity=0.7, line_opacity=0.3,\n",
    "               topojson='objects.us_counties_20m')\n",
    "map_1.create_map(path='map_1.html')\n",
    "map_1"
   ]
  },
  {
   "cell_type": "code",
   "execution_count": null,
   "metadata": {
    "collapsed": false
   },
   "outputs": [],
   "source": [
    "map_2 = folium.Map(location=[40, -99], zoom_start=4)\n",
    "map_2.geo_json(geo_path=county_geo, data_out='data2.json', data=df,\n",
    "               columns=['GEO_ID', 'Unemployment_rate_2011'],\n",
    "               key_on='feature.id',\n",
    "               threshold_scale=[0, 5, 7, 9, 11, 13],\n",
    "               fill_color='YlGnBu', line_opacity=0.3,\n",
    "               legend_name='Unemployment Rate 2011 (%)',\n",
    "               topojson='objects.us_counties_20m')\n",
    "map_2.create_map(path='map_2.html')\n",
    "map_2"
   ]
  },
  {
   "cell_type": "code",
   "execution_count": null,
   "metadata": {
    "collapsed": false
   },
   "outputs": [],
   "source": [
    "map_3 = folium.Map(location=[40, -99], zoom_start=4)\n",
    "map_3.geo_json(geo_path=county_geo, data_out='data3.json', data=df,\n",
    "               columns=['GEO_ID', 'Median_Household_Income_2011'],\n",
    "               key_on='feature.id',\n",
    "               fill_color='PuRd', line_opacity=0.3,\n",
    "               legend_name='Median Household Income 2011 ($)',\n",
    "               topojson='objects.us_counties_20m')\n",
    "map_3.create_map(path='map_3.html')\n",
    "map_3"
   ]
  },
  {
   "cell_type": "code",
   "execution_count": null,
   "metadata": {
    "collapsed": true
   },
   "outputs": [],
   "source": []
  },
  {
   "cell_type": "code",
   "execution_count": null,
   "metadata": {
    "collapsed": true
   },
   "outputs": [],
   "source": []
  }
 ],
 "metadata": {
  "kernelspec": {
   "display_name": "Python 2",
   "language": "python",
   "name": "python2"
  },
  "language_info": {
   "codemirror_mode": {
    "name": "ipython",
    "version": 2
   },
   "file_extension": ".py",
   "mimetype": "text/x-python",
   "name": "python",
   "nbconvert_exporter": "python",
   "pygments_lexer": "ipython2",
   "version": "2.7.6"
  }
 },
 "nbformat": 4,
 "nbformat_minor": 0
}
