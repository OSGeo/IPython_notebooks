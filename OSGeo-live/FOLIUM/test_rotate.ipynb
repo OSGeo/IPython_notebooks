{
 "cells": [
  {
   "cell_type": "code",
   "execution_count": 1,
   "metadata": {
    "collapsed": false
   },
   "outputs": [],
   "source": [
    "import folium\n",
    "from IPython.display import HTML, Javascript, display"
   ]
  },
  {
   "cell_type": "code",
   "execution_count": 2,
   "metadata": {
    "collapsed": false
   },
   "outputs": [],
   "source": [
    "def inline_map(m):\n",
    "    m._build_map()\n",
    "    srcdoc = m.HTML.replace('\"', '&quot;')\n",
    "    embed = HTML('<iframe srcdoc=\"{srcdoc}\" '\n",
    "                 'style=\"width: 100%; height: 500px; '\n",
    "                 'border: none\"></iframe>'.format(srcdoc=srcdoc))\n",
    "    return embed"
   ]
  },
  {
   "cell_type": "code",
   "execution_count": null,
   "metadata": {
    "collapsed": false
   },
   "outputs": [],
   "source": []
  },
  {
   "cell_type": "code",
   "execution_count": 3,
   "metadata": {
    "collapsed": false
   },
   "outputs": [
    {
     "data": {
      "text/html": [
       "<iframe srcdoc=\"<!DOCTYPE html>\n",
       "<head>\n",
       "  <meta http-equiv=&quot;content-type&quot; content=&quot;text/html; charset=UTF-8&quot; />\n",
       "   <link rel=&quot;stylesheet&quot; href=&quot;https://rawgit.com/andrewgiessel/leafletstuff/master/leaflet.css&quot; />\n",
       "   <script src=&quot;https://cdnjs.cloudflare.com/ajax/libs/leaflet/0.7.3/leaflet.js&quot;></script>\n",
       "\n",
       "   <script src=&quot;https://ajax.googleapis.com/ajax/libs/jquery/1.11.1/jquery.min.js&quot;></script>\n",
       "\n",
       "   <link rel=&quot;stylesheet&quot; href=&quot;https://maxcdn.bootstrapcdn.com/bootstrap/3.2.0/css/bootstrap.min.css&quot;>\n",
       "   <link rel=&quot;stylesheet&quot; href=&quot;https://maxcdn.bootstrapcdn.com/bootstrap/3.2.0/css/bootstrap-theme.min.css&quot;>\n",
       "   <script src=&quot;https://maxcdn.bootstrapcdn.com/bootstrap/3.2.0/js/bootstrap.min.js&quot;></script>\n",
       "\n",
       "   <link href=&quot;https://maxcdn.bootstrapcdn.com/font-awesome/4.1.0/css/font-awesome.min.css&quot; rel=&quot;stylesheet&quot;>\n",
       "\n",
       "   <link rel=&quot;stylesheet&quot; href=&quot;https://rawgit.com/lvoogdt/Leaflet.awesome-markers/2.0/develop/dist/leaflet.awesome-markers.css&quot;>\n",
       "   <script src=&quot;https://rawgithub.com/lvoogdt/Leaflet.awesome-markers/2.0/develop/dist/leaflet.awesome-markers.js&quot;></script>\n",
       "\n",
       "\n",
       "   <link rel=&quot;stylesheet&quot; href=&quot;https://cdnjs.cloudflare.com/ajax/libs/leaflet.markercluster/0.4.0/MarkerCluster.Default.css&quot;>\n",
       "   <link rel=&quot;stylesheet&quot; href=&quot;https://cdnjs.cloudflare.com/ajax/libs/leaflet.markercluster/0.4.0/MarkerCluster.css&quot;>\n",
       "   <script src=&quot;https://cdnjs.cloudflare.com/ajax/libs/leaflet.markercluster/0.4.0/leaflet.markercluster-src.js&quot;></script>\n",
       "   <script src=&quot;https://cdnjs.cloudflare.com/ajax/libs/leaflet.markercluster/0.4.0/leaflet.markercluster.js&quot;></script>\n",
       "\n",
       "   <link rel=&quot;stylesheet&quot; href=&quot;https://birdage.github.io/Leaflet.awesome-markers/dist/leaflet.awesome.rotate.css&quot;>\n",
       "\n",
       "   \n",
       "   \n",
       "   \n",
       "   \n",
       "\n",
       "   <style>\n",
       "\n",
       "      html, body {\n",
       "        width: 100%;\n",
       "        height: 100%;\n",
       "        margin: 0;\n",
       "        padding: 0;\n",
       "      }\n",
       "\n",
       "      #map {\n",
       "        position:absolute;\n",
       "        top:0;\n",
       "        bottom:0;\n",
       "        right:0;\n",
       "        left:0;\n",
       "      }\n",
       "\n",
       "   </style>\n",
       "</head>\n",
       "\n",
       "<body>\n",
       "\n",
       "   <div class=&quot;folium-map&quot; id=&quot;folium_659b6af3ee1f4a678018cd77e4505492&quot; style=&quot;width: 100%; height: 100%&quot;></div>\n",
       "\n",
       "   <script>\n",
       "\n",
       "      \n",
       "\n",
       "      var base_tile = L.tileLayer('https://{s}.tile.openstreetmap.org/{z}/{x}/{y}.png', {\n",
       "          maxZoom: 18,\n",
       "          minZoom: 1,\n",
       "          attribution: 'Map data (c) <a href=&quot;http://openstreetmap.org&quot;>OpenStreetMap</a> contributors'\n",
       "      });\n",
       "\n",
       "      var baseLayer = {\n",
       "        &quot;Base Layer&quot;: base_tile\n",
       "      };\n",
       "\n",
       "      /*\n",
       "      addition of the wms layers\n",
       "      */\n",
       "\n",
       "      \n",
       "\n",
       "      /*\n",
       "      addition of the tile layers\n",
       "      */\n",
       "      \n",
       "\n",
       "      /*\n",
       "      list of layers to be added\n",
       "      */\n",
       "      var layer_list = {\n",
       "      \n",
       "      };\n",
       "\n",
       "      /*\n",
       "      Bounding box.\n",
       "      */\n",
       "      var southWest = L.latLng(-90, -180),\n",
       "          northEast = L.latLng(90, 180),\n",
       "          bounds = L.latLngBounds(southWest, northEast);\n",
       "\n",
       "      /*\n",
       "      Creates the map and adds the selected layers\n",
       "      */\n",
       "      var map = L.map('folium_659b6af3ee1f4a678018cd77e4505492', {\n",
       "                                       center:[41, -71],\n",
       "                                       zoom: 4,\n",
       "                                       maxBounds: bounds,\n",
       "                                       layers: [base_tile]\n",
       "                                     });\n",
       "\n",
       "      L.control.layers(baseLayer, layer_list).addTo(map);\n",
       "\n",
       "      /*\n",
       "      addition of the image layers\n",
       "      */\n",
       "      \n",
       "      \n",
       "      //cluster group\n",
       "      var clusteredmarkers = L.markerClusterGroup();\n",
       "      //section for adding clustered markers\n",
       "      \n",
       "      //add the clustered markers to the group anyway\n",
       "      map.addLayer(clusteredmarkers);\n",
       "\n",
       "      \n",
       "      var marker_1_icon = L.AwesomeMarkers.icon({ icon: 'arrow-up',markerColor: 'green',prefix: 'glyphicon',extraClasses: 'fa-rotate-0'});\n",
       "      var marker_1 = L.marker([41, \n",
       "\t\t\t\t\t\t\t-72],\n",
       "\t\t\t\t\t\t\t{'icon':marker_1_icon}\n",
       "\t\t\t\t\t\t\t);\n",
       "      marker_1.bindPopup(&quot;something something...<br>&quot;);\n",
       "      marker_1._popup.options.maxWidth = 300;\n",
       "      map.addLayer(marker_1)\n",
       "      \n",
       "\n",
       "      \n",
       "\n",
       "      \n",
       "\n",
       "      \n",
       "\n",
       "      \n",
       "\n",
       "      \n",
       "\n",
       "\n",
       "\n",
       "   </script>\n",
       "\n",
       "</body>\" style=\"width: 100%; height: 500px; border: none\"></iframe>"
      ],
      "text/plain": [
       "<IPython.core.display.HTML object>"
      ]
     },
     "execution_count": 3,
     "metadata": {},
     "output_type": "execute_result"
    }
   ],
   "source": [
    "#station =  st_list[st_list.keys()[0]]\n",
    "#map = folium.Map(location=[station[\"lat\"], station[\"lon\"]], zoom_start=4)\n",
    "map = folium.Map(location=[41, -71], zoom_start=4)\n",
    "#map.line(get_coordinates(bounding_box, bounding_box_type), line_color='#FF0000', line_weight=5)\n",
    "\n",
    "#plot the obs station, \n",
    "#for st in st_list:        \n",
    "map.simple_marker([41,-72], popup='something something...<br>',marker_color=\"green\",marker_icon=\"arrow-up\",icon_angle=0)\n",
    "inline_map(map)    "
   ]
  },
  {
   "cell_type": "code",
   "execution_count": null,
   "metadata": {
    "collapsed": false
   },
   "outputs": [],
   "source": []
  },
  {
   "cell_type": "code",
   "execution_count": null,
   "metadata": {
    "collapsed": false
   },
   "outputs": [],
   "source": []
  },
  {
   "cell_type": "code",
   "execution_count": null,
   "metadata": {
    "collapsed": false
   },
   "outputs": [],
   "source": []
  },
  {
   "cell_type": "code",
   "execution_count": null,
   "metadata": {
    "collapsed": false
   },
   "outputs": [],
   "source": []
  },
  {
   "cell_type": "code",
   "execution_count": 3,
   "metadata": {
    "collapsed": false
   },
   "outputs": [],
   "source": []
  }
 ],
 "metadata": {
  "kernelspec": {
   "display_name": "Python 2",
   "language": "python",
   "name": "python2"
  },
  "language_info": {
   "codemirror_mode": {
    "name": "ipython",
    "version": 2
   },
   "file_extension": ".py",
   "mimetype": "text/x-python",
   "name": "python",
   "nbconvert_exporter": "python",
   "pygments_lexer": "ipython2",
   "version": "2.7.6"
  }
 },
 "nbformat": 4,
 "nbformat_minor": 0
}
