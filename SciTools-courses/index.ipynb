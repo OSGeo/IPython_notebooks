{
 "cells": [
  {
   "cell_type": "markdown",
   "metadata": {},
   "source": [
    "# Python courses for the scientific researcher\n",
    "---\n",
    "This repository contains several courses for the benefit of scientific researchers,\n",
    "particularly in the fields of oceanography and meteorology.\n",
    "\n",
    "There are currently four courses:\n",
    "\n",
    "* [An introduction to numpy](course_content/notebooks/numpy_intro.ipynb)\n",
    "    3.5 hours &mdash; depends on a basic Python background\n",
    "\n",
    "*  [An introduction to matplotlib](course_content/notebooks/matplotlib_intro.ipynb)\n",
    "    3 hours &mdash; depends on \"An introduction to numpy\"\n",
    "\n",
    "* [Cartopy in a nutshell (for Iris)](course_content/notebooks/cartopy_intro.ipynb)\n",
    "    0.5 hours &mdash; depends on \"An introduction to matplotlib\"\n",
    "\n",
    "* [An introduction to Iris](course_content/notebooks/iris_intro.ipynb)\n",
    "    6 hours &mdash; depends on \"Cartopy in a nutshell\"\n",
    "\n",
    "\n",
    "\n",
    "\n"
   ]
  }
 ],
 "metadata": {
  "hide_input": false,
  "kernelspec": {
   "display_name": "Python",
   "language": "python",
   "name": "python2"
  },
  "language_info": {
   "codemirror_mode": {
    "name": "ipython",
    "version": 2.0
   },
   "file_extension": ".py",
   "mimetype": "text/x-python",
   "name": "python",
   "nbconvert_exporter": "python",
   "pygments_lexer": "ipython2",
   "version": "2.7.11+"
  },
  "latex_envs": {
   "bibliofile": "biblio.bib",
   "cite_by": "apalike",
   "current_citInitial": 1.0,
   "eqLabelWithNumbers": true,
   "eqNumInitial": 0.0
  }
 },
 "nbformat": 4,
 "nbformat_minor": 0
}