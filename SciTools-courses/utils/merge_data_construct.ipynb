{
 "metadata": {
  "name": "merge_data_construct"
 },
 "nbformat": 3,
 "nbformat_minor": 0,
 "worksheets": [
  {
   "cells": [
    {
     "cell_type": "code",
     "collapsed": false,
     "input": [
      "import iris\n",
      "import iris.tests.stock as stock"
     ],
     "language": "python",
     "metadata": {},
     "outputs": [
      {
       "output_type": "stream",
       "stream": "stderr",
       "text": [
        "/data/local/sci/r28/lib/python2.7/site-packages/nose-1.1.2-py2.7.egg/nose/util.py:14: DeprecationWarning: The compiler package is deprecated and removed in Python 3.x.\n",
        "  from compiler.consts import CO_GENERATOR\n",
        "/data/local/sci/r28/lib/python2.7/site-packages/nose-1.1.2-py2.7.egg/nose/plugins/manager.py:405: UserWarning: Module IPython was already imported from /data/local/itpe/git/ipython/build/lib/IPython/__init__.pyc, but /net/home/h02/itpe/.local/lib/python2.7/site-packages is being added to sys.path\n",
        "  import pkg_resources\n"
       ]
      }
     ],
     "prompt_number": 1
    },
    {
     "cell_type": "code",
     "collapsed": false,
     "input": [
      "cube = stock.realistic_4d()"
     ],
     "language": "python",
     "metadata": {},
     "outputs": [],
     "prompt_number": 2
    },
    {
     "cell_type": "code",
     "collapsed": false,
     "input": [
      "sub_cubes = (cube[0, 0, ...], cube[1, 0, ...])"
     ],
     "language": "python",
     "metadata": {},
     "outputs": [],
     "prompt_number": 3
    },
    {
     "cell_type": "code",
     "collapsed": false,
     "input": [
      "sub_cubes"
     ],
     "language": "python",
     "metadata": {},
     "outputs": [
      {
       "metadata": {},
       "output_type": "pyout",
       "prompt_number": 4,
       "text": [
        "(<iris 'Cube' of air_potential_temperature / (K) (grid_latitude: 100; grid_longitude: 100)>,\n",
        " <iris 'Cube' of air_potential_temperature / (K) (grid_latitude: 100; grid_longitude: 100)>)"
       ]
      }
     ],
     "prompt_number": 4
    },
    {
     "cell_type": "code",
     "collapsed": false,
     "input": [
      "potential = iris.cube.CubeList(sub_cubes)\n",
      "print potential.merge()"
     ],
     "language": "python",
     "metadata": {},
     "outputs": [
      {
       "output_type": "stream",
       "stream": "stdout",
       "text": [
        "0: air_potential_temperature / (K)     (time: 2; grid_latitude: 100; grid_longitude: 100)\n"
       ]
      }
     ],
     "prompt_number": 5
    },
    {
     "cell_type": "code",
     "collapsed": false,
     "input": [
      "!rm merge_exercise.*.nc"
     ],
     "language": "python",
     "metadata": {},
     "outputs": [
      {
       "output_type": "stream",
       "stream": "stdout",
       "text": [
        "rm: cannot remove `merge_exercise.*.nc': No such file or directory\r\n"
       ]
      }
     ],
     "prompt_number": 6
    },
    {
     "cell_type": "code",
     "collapsed": false,
     "input": [
      "potential[0].attributes['History'] = 'unknown'\n",
      "iris.save(potential[0], 'merge_exercise.1.f1.nc')\n",
      "iris.save(potential[1], 'merge_exercise.1.f2.nc')\n",
      "potential[0].attributes.pop('History')"
     ],
     "language": "python",
     "metadata": {},
     "outputs": [
      {
       "metadata": {},
       "output_type": "pyout",
       "prompt_number": 7,
       "text": [
        "'unknown'"
       ]
      }
     ],
     "prompt_number": 7
    },
    {
     "cell_type": "code",
     "collapsed": false,
     "input": [
      "cubes = iris.load('merge_exercise.1.*.nc')\n",
      "print len(cubes)\n",
      "#print cubes.describe_merge()\n",
      "cubes[0].attributes.pop('History')\n",
      "print cubes.merge()"
     ],
     "language": "python",
     "metadata": {},
     "outputs": [
      {
       "output_type": "stream",
       "stream": "stdout",
       "text": [
        "2\n",
        "0: air_potential_temperature / (K)     (time: 2; grid_latitude: 100; grid_longitude: 100)\n"
       ]
      }
     ],
     "prompt_number": 9
    },
    {
     "cell_type": "code",
     "collapsed": false,
     "input": [
      "task = 6\n",
      "potential[1].coord('grid_latitude').bounds = None\n",
      "potential[1].coord('grid_longitude').bounds = None\n",
      "iris.save(potential[0], 'merge_exercise.6.f1.nc')\n",
      "iris.save(potential[1], 'merge_exercise.6.f2.nc')\n",
      "potential[1].coord('grid_latitude').bounds = potential[0].coord('grid_latitude').bounds\n",
      "potential[1].coord('grid_longitude').bounds = potential[0].coord('grid_longitude').bounds"
     ],
     "language": "python",
     "metadata": {},
     "outputs": [],
     "prompt_number": 10
    },
    {
     "cell_type": "code",
     "collapsed": false,
     "input": [
      "cubes = iris.load('merge_exercise.6.*.nc')\n",
      "cubes[1].coord('grid_latitude').bounds = cubes[0].coord('grid_latitude').bounds\n",
      "cubes[1].coord('grid_longitude').bounds = cubes[0].coord('grid_longitude').bounds\n",
      "print len(cubes)\n",
      "print cubes.merge()"
     ],
     "language": "python",
     "metadata": {},
     "outputs": [
      {
       "output_type": "stream",
       "stream": "stdout",
       "text": [
        "2\n",
        "0: air_potential_temperature / (K)     (time: 2; grid_latitude: 100; grid_longitude: 100)\n"
       ]
      }
     ],
     "prompt_number": 11
    },
    {
     "cell_type": "code",
     "collapsed": false,
     "input": [
      "c = potential[1].coord('time')\n",
      "print c.units\n",
      "c.convert_units('days since 1970-01-01 00:00:00')\n",
      "iris.save(potential[0], 'merge_exercise.3.f1.nc')\n",
      "iris.save(potential[1], 'merge_exercise.3.f2.nc')\n",
      "c.convert_units('hours since 1970-01-01 00:00:00')"
     ],
     "language": "python",
     "metadata": {},
     "outputs": [
      {
       "output_type": "stream",
       "stream": "stdout",
       "text": [
        "hours since 1970-01-01 00:00:00\n"
       ]
      }
     ],
     "prompt_number": 12
    },
    {
     "cell_type": "code",
     "collapsed": false,
     "input": [
      "import iris\n",
      "reload(iris)"
     ],
     "language": "python",
     "metadata": {},
     "outputs": [
      {
       "metadata": {},
       "output_type": "pyout",
       "prompt_number": 13,
       "text": [
        "<module 'iris' from '/data/local/itpe/git/iris/lib/iris/__init__.py'>"
       ]
      }
     ],
     "prompt_number": 13
    },
    {
     "cell_type": "code",
     "collapsed": false,
     "input": [
      "cubes = iris.load('merge_exercise.3.*.nc')\n",
      "cubes[1].coord('time').convert_units(cubes[0].coord('time').units)\n",
      "print len(cubes)\n",
      "print cubes.merge()"
     ],
     "language": "python",
     "metadata": {},
     "outputs": [
      {
       "output_type": "stream",
       "stream": "stdout",
       "text": [
        "2\n",
        "0: air_potential_temperature / (K)     (time: 2; grid_latitude: 100; grid_longitude: 100)\n"
       ]
      }
     ],
     "prompt_number": 14
    },
    {
     "cell_type": "code",
     "collapsed": false,
     "input": [
      "potential[1].data = potential[1].data.astype('float64')\n",
      "iris.save(potential[0], 'merge_exercise.4.f1.nc')\n",
      "iris.save(potential[1], 'merge_exercise.4.f2.nc')\n",
      "potential[1].data = potential[1].data.astype('float32')"
     ],
     "language": "python",
     "metadata": {},
     "outputs": [],
     "prompt_number": 15
    },
    {
     "cell_type": "code",
     "collapsed": false,
     "input": [
      "cubes = iris.load('merge_exercise.4.*.nc')\n",
      "for cube in cubes:\n",
      "    cube.data = cube.data.astype('float64')\n",
      "print len(cubes)\n",
      "print cubes.merge()"
     ],
     "language": "python",
     "metadata": {},
     "outputs": [
      {
       "output_type": "stream",
       "stream": "stdout",
       "text": [
        "2\n",
        "0: air_potential_temperature / (K)     (time: 2; grid_latitude: 100; grid_longitude: 100)\n"
       ]
      }
     ],
     "prompt_number": 16
    },
    {
     "cell_type": "code",
     "collapsed": false,
     "input": [
      "!rm -rf merge_exercise.5.??.nc\n",
      "potential[0].long_name = 'The first timestep'\n",
      "potential[1].long_name = 'The second timestep'\n",
      "iris.save(potential[0], 'merge_exercise.2.f1.nc')\n",
      "iris.save(potential[1], 'merge_exercise.2.f2.nc')\n",
      "potential[0].long_name = potential[1].long_name = None"
     ],
     "language": "python",
     "metadata": {},
     "outputs": [],
     "prompt_number": 17
    },
    {
     "cell_type": "code",
     "collapsed": false,
     "input": [
      "cubes = iris.load('merge_exercise.2.*.nc')\n",
      "for cube in cubes:\n",
      "    cube.long_name = None\n",
      "print len(cubes)\n",
      "print cubes.merge()"
     ],
     "language": "python",
     "metadata": {},
     "outputs": [
      {
       "output_type": "stream",
       "stream": "stdout",
       "text": [
        "2\n",
        "0: air_potential_temperature / (K)     (time: 2; grid_latitude: 100; grid_longitude: 100)\n"
       ]
      }
     ],
     "prompt_number": 18
    },
    {
     "cell_type": "code",
     "collapsed": false,
     "input": [
      "iris.save(potential[0], 'merge_exercise.5.f1.nc')\n",
      "iris.save(stock.realistic_4d()[1:2, 0, ...], 'merge_exercise.5.f2.nc')"
     ],
     "language": "python",
     "metadata": {},
     "outputs": [],
     "prompt_number": 19
    },
    {
     "cell_type": "code",
     "collapsed": false,
     "input": [
      "cubes = iris.load('merge_exercise.5.??.nc')\n",
      "print len(cubes)\n",
      "cubes[1] = cubes[1][0, ...]\n",
      "for cube in cubes:\n",
      "    print cube.coord('time')\n",
      "    cube.data\n",
      "for coord1, coord2 in zip(cubes[0].coords(), cubes[1].coords()):\n",
      "    print coord1 == coord2, coord1.name()\n",
      "    if not coord1 == coord2:\n",
      "        print `coord1`\n",
      "        print `coord2`\n",
      "        print '---'\n",
      "#cubes.describe_merge()\n",
      "print cubes.merge()"
     ],
     "language": "python",
     "metadata": {},
     "outputs": [
      {
       "output_type": "stream",
       "stream": "stdout",
       "text": [
        "2\n",
        "DimCoord([2009-09-09 17:10:00], standard_name=u'time', calendar=u'gregorian', var_name='time')\n",
        "DimCoord([2009-09-09 17:20:00], standard_name=u'time', calendar=u'gregorian', var_name='time')\n",
        "True grid_latitude\n",
        "True grid_longitude\n",
        "True atmosphere_hybrid_height_coordinate\n",
        "True forecast_period\n",
        "True model_level_number\n",
        "True sigma\n",
        "False time\n",
        "DimCoord(array([ 347921.16666667]), standard_name=u'time', units=Unit('hours since 1970-01-01 00:00:00', calendar='gregorian'), var_name='time')\n",
        "DimCoord(array([ 347921.33333333]), standard_name=u'time', units=Unit('hours since 1970-01-01 00:00:00', calendar='gregorian'), var_name='time')\n",
        "---\n",
        "True surface_altitude\n",
        "True altitude\n",
        "0: air_potential_temperature / (K)     (time: 2; grid_latitude: 100; grid_longitude: 100)\n"
       ]
      }
     ],
     "prompt_number": 21
    },
    {
     "cell_type": "code",
     "collapsed": false,
     "input": [],
     "language": "python",
     "metadata": {},
     "outputs": []
    }
   ],
   "metadata": {}
  }
 ]
}