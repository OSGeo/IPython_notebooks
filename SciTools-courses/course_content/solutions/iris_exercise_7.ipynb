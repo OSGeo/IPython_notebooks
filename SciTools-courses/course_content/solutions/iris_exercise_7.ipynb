{
 "metadata": {
  "name": "iris_exercise_7"
 },
 "nbformat": 3,
 "nbformat_minor": 0,
 "worksheets": [
  {
   "cells": [
    {
     "cell_type": "markdown",
     "metadata": {},
     "source": [
      "# Graduation exercise\n",
      "\n",
      "1\\. Load 'A1B_north_america.nc' from the iris sample data"
     ]
    },
    {
     "cell_type": "code",
     "collapsed": false,
     "input": [
      "import iris\n",
      "filename = iris.sample_data_path(\"A1B_north_america.nc\")\n",
      "cube = iris.load_cube(filename)\n",
      "print cube"
     ],
     "language": "python",
     "metadata": {},
     "outputs": [
      {
       "output_type": "stream",
       "stream": "stdout",
       "text": [
        "air_temperature / (K)               (time: 240; latitude: 37; longitude: 49)\n",
        "     Dimension coordinates:\n",
        "          time                           x              -              -\n",
        "          latitude                       -              x              -\n",
        "          longitude                      -              -              x\n",
        "     Auxiliary coordinates:\n",
        "          forecast_period                x              -              -\n",
        "     Scalar coordinates:\n",
        "          forecast_reference_time: 1859-09-01 06:00:00\n",
        "          height: 1.5 m\n",
        "     Attributes:\n",
        "          Conventions: CF-1.5\n",
        "          Model scenario: A1B\n",
        "          STASH: m01s03i236\n",
        "          source: Data from Met Office Unified Model 6.05\n",
        "     Cell methods:\n",
        "          mean: time (6 hour)\n"
       ]
      }
     ],
     "prompt_number": 2
    },
    {
     "cell_type": "markdown",
     "metadata": {},
     "source": [
      "2\\. Extract just data from the year 1980 and beyond from the loaded cube"
     ]
    },
    {
     "cell_type": "code",
     "collapsed": false,
     "input": [
      "tcoord = cube.coord('time')\n",
      "def since_1980(cell):\n",
      "    return tcoord.units.num2date(cell.point).year >= 1980\n",
      "\n",
      "tcon = iris.Constraint(time=since_1980)\n",
      "cube = cube.extract(tcon)"
     ],
     "language": "python",
     "metadata": {},
     "outputs": [],
     "prompt_number": 3
    },
    {
     "cell_type": "code",
     "collapsed": false,
     "input": [
      "tcoord = cube.coord('time')\n",
      "\n",
      "print tcoord.units.num2date(tcoord.points.min())\n",
      "print tcoord.units.num2date(tcoord.points.max())"
     ],
     "language": "python",
     "metadata": {},
     "outputs": [
      {
       "output_type": "stream",
       "stream": "stdout",
       "text": [
        "1980-06-01 00:00:00\n",
        "2099-06-01 00:00:00\n"
       ]
      }
     ],
     "prompt_number": 4
    },
    {
     "cell_type": "markdown",
     "metadata": {},
     "source": [
      "3\\. Define a function which takes a coordinate and a single time point as arguments, and returns the decade. For example, your function should return 2010 for the following:\n",
      "\n",
      "       time = iris.coords.DimCoord([10], 'time', units='days since 2018-01-01')\n",
      "       print your_decade_function(time, time.points[0])"
     ]
    },
    {
     "cell_type": "code",
     "collapsed": false,
     "input": [
      "def get_decade(coord, point):\n",
      "    year = coord.units.num2date(point).year\n",
      "    return (year/10)*10\n",
      "time = iris.coords.DimCoord([10], 'time', units='days since 2018-01-01')\n",
      "print get_decade(time, time.points[0])"
     ],
     "language": "python",
     "metadata": {},
     "outputs": [
      {
       "output_type": "stream",
       "stream": "stdout",
       "text": [
        "2010\n"
       ]
      }
     ],
     "prompt_number": 5
    },
    {
     "cell_type": "markdown",
     "metadata": {},
     "source": [
      "4\\. Add a \"decade\" coordinate to the loaded cube using your function and the coord categorisation module"
     ]
    },
    {
     "cell_type": "code",
     "collapsed": false,
     "input": [
      "import iris.coord_categorisation as coord_cat\n",
      "coord_cat.add_categorised_coord(cube, 'decade', 'time', get_decade)\n",
      "print cube.coord('decade')"
     ],
     "language": "python",
     "metadata": {},
     "outputs": [
      {
       "output_type": "stream",
       "stream": "stdout",
       "text": [
        "AuxCoord(array([1980, 1980, 1980, 1980, 1980, 1980, 1980, 1980, 1980, 1980, 1990,\n",
        "       1990, 1990, 1990, 1990, 1990, 1990, 1990, 1990, 1990, 2000, 2000,\n",
        "       2000, 2000, 2000, 2000, 2000, 2000, 2000, 2000, 2010, 2010, 2010,\n",
        "       2010, 2010, 2010, 2010, 2010, 2010, 2010, 2020, 2020, 2020, 2020,\n",
        "       2020, 2020, 2020, 2020, 2020, 2020, 2030, 2030, 2030, 2030, 2030,\n",
        "       2030, 2030, 2030, 2030, 2030, 2040, 2040, 2040, 2040, 2040, 2040,\n",
        "       2040, 2040, 2040, 2040, 2050, 2050, 2050, 2050, 2050, 2050, 2050,\n",
        "       2050, 2050, 2050, 2060, 2060, 2060, 2060, 2060, 2060, 2060, 2060,\n",
        "       2060, 2060, 2070, 2070, 2070, 2070, 2070, 2070, 2070, 2070, 2070,\n",
        "       2070, 2080, 2080, 2080, 2080, 2080, 2080, 2080, 2080, 2080, 2080,\n",
        "       2090, 2090, 2090, 2090, 2090, 2090, 2090, 2090, 2090, 2090]), standard_name=None, units=Unit('1'), long_name=u'decade')\n"
       ]
      }
     ],
     "prompt_number": 6
    },
    {
     "cell_type": "markdown",
     "metadata": {},
     "source": [
      "5\\. Calculate the decadal means cube for this scenario"
     ]
    },
    {
     "cell_type": "code",
     "collapsed": false,
     "input": [
      "import iris.analysis\n",
      "cube = cube.aggregated_by('decade', iris.analysis.MEAN)\n",
      "print cube"
     ],
     "language": "python",
     "metadata": {},
     "outputs": [
      {
       "output_type": "stream",
       "stream": "stdout",
       "text": [
        "air_temperature / (K)               (time: 12; latitude: 37; longitude: 49)\n",
        "     Dimension coordinates:\n",
        "          time                           x             -              -\n",
        "          latitude                       -             x              -\n",
        "          longitude                      -             -              x\n",
        "     Auxiliary coordinates:\n",
        "          decade                         x             -              -\n",
        "          forecast_period                x             -              -\n",
        "     Scalar coordinates:\n",
        "          forecast_reference_time: 1859-09-01 06:00:00\n",
        "          height: 1.5 m\n",
        "     Attributes:\n",
        "          Conventions: CF-1.5\n",
        "          Model scenario: A1B\n",
        "          STASH: m01s03i236\n",
        "          history: Mean of air_temperature aggregated over decade\n",
        "          source: Data from Met Office Unified Model 6.05\n",
        "     Cell methods:\n",
        "          mean: time (6 hour)\n",
        "          mean: decade\n"
       ]
      }
     ],
     "prompt_number": 7
    },
    {
     "cell_type": "markdown",
     "metadata": {},
     "source": [
      "6\\. Create a figure with 3 rows and 4 columns displaying the decadal means, with the decade displayed prominently in each axes' title"
     ]
    },
    {
     "cell_type": "code",
     "collapsed": false,
     "input": [
      "import matplotlib.pyplot as plt\n",
      "import iris.plot as iplt\n",
      "\n",
      "plt.figure(figsize=(12, 6))\n",
      "\n",
      "plt.suptitle('Decadal means for the A1B scenario')\n",
      "for i, decade_cube in enumerate(cube.slices(['latitude', 'longitude'])):\n",
      "    plt.subplot(3, 4, i+1)\n",
      "    iplt.contourf(decade_cube, 20)\n",
      "    plt.title('{}'.format(decade_cube.coord('decade').points[0]))\n",
      "    plt.gca().coastlines()\n",
      "plt.show()"
     ],
     "language": "python",
     "metadata": {},
     "outputs": [],
     "prompt_number": 16
    }
   ],
   "metadata": {}
  }
 ]
}
