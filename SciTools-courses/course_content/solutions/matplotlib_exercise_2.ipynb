{
 "cells": [
  {
   "cell_type": "markdown",
   "metadata": {},
   "source": [
    "Previous example:\n",
    "\n",
    "    ax = plt.axes()\n",
    "    line1, = ax.plot([0, 1, 2, 1.5], [3, 1, 2, 4])\n",
    "    plt.show()"
   ]
  },
  {
   "cell_type": "markdown",
   "metadata": {},
   "source": [
    "**Exercise 2:** Modify the previous example to produce three different figures that control the limits of the axes by:\n",
    "\n",
    " 1\\. Manually setting the x and y limits to $[0.5, 2]$ and $[1, 5]$ respectively."
   ]
  },
  {
   "cell_type": "code",
   "execution_count": null,
   "metadata": {
    "collapsed": false
   },
   "outputs": [],
   "source": [
    "ax = plt.axes()\n",
    "line1, = ax.plot([0, 1, 2, 1.5], [3, 1, 2, 4])\n",
    "ax.set_xlim(0.5, 2)\n",
    "ax.set_ylim(1, 5)\n",
    "plt.show()"
   ]
  },
  {
   "cell_type": "markdown",
   "metadata": {},
   "source": [
    "2\\. Defining a margin such that there is 10% whitespace inside the axes around the drawn line. (Hint: numbers to margins are normalised such that 0% is 0.0 and 100% is 1.0.)"
   ]
  },
  {
   "cell_type": "code",
   "execution_count": null,
   "metadata": {
    "collapsed": false
   },
   "outputs": [],
   "source": [
    "ax = plt.axes()\n",
    "line1, = ax.plot([0, 1, 2, 1.5], [3, 1, 2, 4])\n",
    "ax.margins(0.1)\n",
    "plt.show()"
   ]
  },
  {
   "cell_type": "markdown",
   "metadata": {},
   "source": [
    "3\\. Setting a 10% margin on the axes with the lower y limit set to 0. (Note: order is important here.)"
   ]
  },
  {
   "cell_type": "code",
   "execution_count": null,
   "metadata": {
    "collapsed": false
   },
   "outputs": [],
   "source": [
    "ax = plt.axes()\n",
    "line1, = ax.plot([0, 1, 2, 1.5], [3, 1, 2, 4])\n",
    "ax.margins(0.1)\n",
    "ax.set_ylim(bottom=0)\n",
    "plt.show()"
   ]
  }
 ],
 "metadata": {
  "kernelspec": {
   "display_name": "Python 3 Sys",
   "language": "python",
   "name": "python3"
  },
  "language_info": {
   "codemirror_mode": {
    "name": "ipython",
    "version": 3
   },
   "file_extension": ".py",
   "mimetype": "text/x-python",
   "name": "python",
   "nbconvert_exporter": "python",
   "pygments_lexer": "ipython3",
   "version": "3.5.1+"
  },
  "widgets": {
   "state": {},
   "version": "0.3.0"
  }
 },
 "nbformat": 4,
 "nbformat_minor": 1
}
